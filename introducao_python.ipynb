{
 "cells": [
  {
   "cell_type": "markdown",
   "metadata": {},
   "source": [
    "<h1>11 conceitos Python para iniciantes em Python</h1>"
   ]
  },
  {
   "cell_type": "markdown",
   "metadata": {},
   "source": [
    "Python é uma linguagem de programação que vem ganhando comunidades por todos os cantos do mundo. Muito dessa popularidade se deve por sua simplicidade e praticidade. Aprender a programar é importante para automatizar coisas chatas e termos mais tempo para coisas que nos deixam feliz."
   ]
  },
  {
   "cell_type": "markdown",
   "metadata": {},
   "source": [
    "<img src=\"code.jpg\" width=\"400px\">"
   ]
  },
  {
   "cell_type": "markdown",
   "metadata": {},
   "source": [
    "<footnote>Photo by Hitesh Choudhary on Unsplash</footnote>"
   ]
  },
  {
   "cell_type": "markdown",
   "metadata": {},
   "source": [
    "Neste post passaremos por vários conceitos importantes da linguagem Python. O texto é voltado para iniciantes, portanto começaremos com a instalação do Python no seu computador. Este post está divido nas seguintes partes:"
   ]
  },
  {
   "cell_type": "markdown",
   "metadata": {},
   "source": [
    "<ul>\n",
    "    <li>Preparando seu computador</li>\n",
    "    <li>1. Strings</li>\n",
    "    <li>2. Variáveis</li>\n",
    "    <li>3. Built-in functions</li>\n",
    "    <li>4. Tipos de variáveis</li>\n",
    "    <li>5. Descobrindo e usando métodos</li>\n",
    "    <li>6. Operando objetos</li>\n",
    "    <li>7. Fatiando objetos</li>\n",
    "    <li>8. If ... Else ...</li>\n",
    "    <li>9. Loop For</li>\n",
    "    <li>10. Funções</li>\n",
    "    <li>11. Bibliotecas</li>\n",
    "</ul>        "
   ]
  },
  {
   "cell_type": "markdown",
   "metadata": {},
   "source": [
    "<h3>Preparando seu computador</h3>"
   ]
  },
  {
   "cell_type": "markdown",
   "metadata": {},
   "source": [
    "Você deve ter o Anaconda Python 3.7 instalado. Se não tiver, basta fazer o download do instalador nesse <a href=\"https://www.anaconda.com/distribution/\">link</a>. A instalação é bem simples bastando clicar “Next” várias vezes."
   ]
  },
  {
   "cell_type": "markdown",
   "metadata": {},
   "source": [
    "Depois, basta procurar por “Anaconda Navigator” e, após abrí-lo, clicar em “Jupyter Notebook”. Como na imagem abaixo:"
   ]
  },
  {
   "cell_type": "markdown",
   "metadata": {},
   "source": [
    "<img src=\"anaconda.jpeg\">"
   ]
  },
  {
   "cell_type": "markdown",
   "metadata": {},
   "source": [
    "Ao clicar em “Jupyter notebook” a interface deste programa se abrirá no seu navegador de internet padrão. Daí então é só clicar em “New” e escolher Python 3, como mostra a figura abaixo:"
   ]
  },
  {
   "cell_type": "markdown",
   "metadata": {},
   "source": [
    "<img src=\"jupyter.jpeg\">"
   ]
  },
  {
   "cell_type": "markdown",
   "metadata": {},
   "source": [
    "Abrirá uma nova aba no seu navegador, como na figura abaixo, daí, basta digitar comandos e apertar “run”, indicado pelo quadrado vermelho na imagem. Neste exemplo, pedimos para o computador imprimir “Hello, world!”"
   ]
  },
  {
   "cell_type": "markdown",
   "metadata": {},
   "source": [
    "<img src=\"notebook.jpeg\">"
   ]
  },
  {
   "cell_type": "markdown",
   "metadata": {},
   "source": [
    "Estamos prontos para começar!"
   ]
  },
  {
   "cell_type": "markdown",
   "metadata": {},
   "source": [
    "<h3>1. Strings</h3>"
   ]
  },
  {
   "cell_type": "markdown",
   "metadata": {},
   "source": [
    "A palavra \"string\" significa <i>sequência de caracteres</i>. Um caracter é qualquer símbolo gráfico usado para compor textos, por exemplo: !@#$\\%¨&*()_+012ABCabc"
   ]
  },
  {
   "cell_type": "markdown",
   "metadata": {},
   "source": [
    "Uma string em Python é reconhecida quando digitamos uma sequência de caracteres entre aspas duplas. Por exemplo: \"Hello, world!\""
   ]
  },
  {
   "cell_type": "markdown",
   "metadata": {},
   "source": [
    "É possível, também, utilizar aspas simples: 'Hello, world!'"
   ]
  },
  {
   "cell_type": "markdown",
   "metadata": {},
   "source": [
    "Os caracteres \"quebra de linha\" e \"tabulação\" são indicados respectivaemente por \"\\n\" e \"\\t\"."
   ]
  },
  {
   "cell_type": "code",
   "execution_count": 1,
   "metadata": {},
   "outputs": [],
   "source": [
    "\"Hello, world!\""
   ]
  },
  {
   "cell_type": "code",
   "execution_count": 2,
   "metadata": {},
   "outputs": [],
   "source": [
    "'Hello, world!'"
   ]
  },
  {
   "cell_type": "code",
   "execution_count": 3,
   "metadata": {},
   "outputs": [],
   "source": [
    "\"\\tHello,\\n\\t\\tworld!\""
   ]
  },
  {
   "cell_type": "markdown",
   "metadata": {},
   "source": [
    "<h3>2. Variáveis</h3>"
   ]
  },
  {
   "cell_type": "markdown",
   "metadata": {},
   "source": [
    "Frequentemente, quando estamos programando, temos a necessidade de armazenar objetos (por exemplo, strings) em variáveis. Para fazê-lo em Python usamos um identificador, seguido do sinal de atribuição, seguido do objeto que queremos armazenar. Por exemplo, para armazernar a string \"Hello, world!\" na variável x, executamos o seguinte código:"
   ]
  },
  {
   "cell_type": "code",
   "execution_count": 4,
   "metadata": {},
   "outputs": [],
   "source": [
    "x = \"Hello, world!\""
   ]
  },
  {
   "cell_type": "markdown",
   "metadata": {},
   "source": [
    "Um identificador não pode começar com números, nem conter caracteres especiais como espaços e tabulações. É comum usarmos underline (travessão), números no final do identificador e letras do nosso alfabeto, podendo ser maiúsculas e minúsculas. Por exemplo:"
   ]
  },
  {
   "cell_type": "code",
   "execution_count": 5,
   "metadata": {},
   "outputs": [],
   "source": [
    "saudacoesPessoal = \"Hello, world!\""
   ]
  },
  {
   "cell_type": "markdown",
   "metadata": {},
   "source": [
    "O identificador da variável acima é <i>saudacoesPessoal</i>. A variável armazena a string \"Hello, world!\""
   ]
  },
  {
   "cell_type": "markdown",
   "metadata": {},
   "source": [
    "<h3>3. Built-in Functions</h3>"
   ]
  },
  {
   "cell_type": "markdown",
   "metadata": {},
   "source": [
    "Built-in functions são funções prontas da linguagem Python. Vejamos, por exemplo, a built-in function <i>len</i>. Essa função conta quantos iteráveis tem num iterável. Podemos pensar num iterável como sendo um objeto que possamos separar suas partes. Por exemplo, podemos separar os caracteres de uma string. Vejamos como utilizar a função <i>len</i> para contar quanto caracteres possui a string \"Hello, world!\" "
   ]
  },
  {
   "cell_type": "code",
   "execution_count": 6,
   "metadata": {},
   "outputs": [],
   "source": [
    "len(\"Hello, world!\")"
   ]
  },
  {
   "cell_type": "markdown",
   "metadata": {},
   "source": [
    "Legal! O número total de caracteres é 13. Observe o quanto é fácil contar caracteres com Python sem ter que contar um por um."
   ]
  },
  {
   "cell_type": "markdown",
   "metadata": {},
   "source": [
    "Devemos passar o iterável entre parênteses. É possível passar uma variável como parâmetro para uma built-in function como no exemplo a seguir:"
   ]
  },
  {
   "cell_type": "code",
   "execution_count": 7,
   "metadata": {},
   "outputs": [],
   "source": [
    "saudacoesPessoal = \"Hello, world!\"\n",
    "len(saudacoesPessoal)"
   ]
  },
  {
   "cell_type": "markdown",
   "metadata": {},
   "source": [
    "Outra built-in function muito utilizada é <i>print</i>. Essa função imprime o objeto."
   ]
  },
  {
   "cell_type": "code",
   "execution_count": 8,
   "metadata": {},
   "outputs": [],
   "source": [
    "saudacoesPessoal = \"Hello, world!\"\n",
    "print(saudacoesPessoal)"
   ]
  },
  {
   "cell_type": "code",
   "execution_count": 9,
   "metadata": {},
   "outputs": [],
   "source": [
    "saudacoesPessoal = \"\\tHello,\\n\\t\\tworld!\"\n",
    "print(saudacoesPessoal)"
   ]
  },
  {
   "cell_type": "markdown",
   "metadata": {},
   "source": [
    "<h3>4. Tipos de variáveis</h3>"
   ]
  },
  {
   "cell_type": "markdown",
   "metadata": {},
   "source": [
    "Para saber qual o tipo de uma variável, basta utilizar a built-in function <i>type</i>. Vejamos o que <i>type</i> retorna ao ser aplicada numa string:"
   ]
  },
  {
   "cell_type": "code",
   "execution_count": 10,
   "metadata": {},
   "outputs": [],
   "source": [
    "type(\"Hello, world!\")"
   ]
  },
  {
   "cell_type": "markdown",
   "metadata": {},
   "source": [
    "Como já vimos, é possível aplicar uma built-in function numa variável. Aplicando <i>type</i> numa variável, descobriremos qual o tipo dela."
   ]
  },
  {
   "cell_type": "code",
   "execution_count": 11,
   "metadata": {},
   "outputs": [],
   "source": [
    "x = \"Aprendendo Python!\"\n",
    "type(x)"
   ]
  },
  {
   "cell_type": "markdown",
   "metadata": {},
   "source": [
    "Para inserir comentários num código, usamos #. Linhas com comentários não são executadas pelo interpretador Python:"
   ]
  },
  {
   "cell_type": "code",
   "execution_count": 12,
   "metadata": {},
   "outputs": [],
   "source": [
    "print(\"Antes\")\n",
    "# print(\"este é um comentário\")\n",
    "print(\"Depois\")"
   ]
  },
  {
   "cell_type": "markdown",
   "metadata": {},
   "source": [
    "A seguir veremos outros tipos de variáveis em Python. Os códigos serão comentados para compreendermos melhor que tipo de variável estamos apresentando. Primeiramente, as variáveis numéricas:"
   ]
  },
  {
   "cell_type": "code",
   "execution_count": 13,
   "metadata": {},
   "outputs": [],
   "source": [
    "# n é um variável do tipo inteiro\n",
    "n = 8\n",
    "type(n)"
   ]
  },
  {
   "cell_type": "code",
   "execution_count": 14,
   "metadata": {},
   "outputs": [],
   "source": [
    "# pi é uma variável do tipo float\n",
    "pi = 3.1415\n",
    "type(pi)"
   ]
  },
  {
   "cell_type": "markdown",
   "metadata": {},
   "source": [
    "Agora, variáveis booleanas:"
   ]
  },
  {
   "cell_type": "code",
   "execution_count": 15,
   "metadata": {},
   "outputs": [],
   "source": [
    "# s1 é uma variável do tipo booleana\n",
    "s1 = True\n",
    "type(s1)"
   ]
  },
  {
   "cell_type": "code",
   "execution_count": 16,
   "metadata": {},
   "outputs": [],
   "source": [
    "# s2 é uma variável do tipo booleana\n",
    "s2 = False\n",
    "type(s2)"
   ]
  },
  {
   "cell_type": "markdown",
   "metadata": {},
   "source": [
    "Sequências ordenadas de objetos Python:"
   ]
  },
  {
   "cell_type": "code",
   "execution_count": 17,
   "metadata": {},
   "outputs": [],
   "source": [
    "# L é uma variável do tipo lista\n",
    "# uma lista é uma sequência ordenada de objetos\n",
    "L = [1, 2, 2.5, True]\n",
    "type(L)"
   ]
  },
  {
   "cell_type": "code",
   "execution_count": 18,
   "metadata": {},
   "outputs": [],
   "source": [
    "# T é uma variável do tipo tupla\n",
    "# uma tupla também é uma sequência ordenada de objetos\n",
    "T = (1, 2, 2.5, True)\n",
    "type(T)"
   ]
  },
  {
   "cell_type": "markdown",
   "metadata": {},
   "source": [
    "Por fim, dicionários:"
   ]
  },
  {
   "cell_type": "code",
   "execution_count": 19,
   "metadata": {},
   "outputs": [],
   "source": [
    "# d é uma variável do tipo dicionário\n",
    "d = {\n",
    "    \"alunos\": [\"Bia\", \"Bob\", \"Ted\"],\n",
    "    \"notas\": [9.8, 8.9, 9.3],\n",
    "    \"escola\": \"X-MG\"\n",
    "}\n",
    "type(d)"
   ]
  },
  {
   "cell_type": "markdown",
   "metadata": {},
   "source": [
    "<h3>5. Descobrindo e usando métodos</h3>"
   ]
  },
  {
   "cell_type": "markdown",
   "metadata": {},
   "source": [
    "Todo objeto tem seus métodos. A built-in function <i>dir</i> apresenta uma lista desses métodos. Existem métodos privados e públicos. É uma boa prática usar apenas aqueles métodos que são públicos. Para saber quais são eles, procure por aqueles que não começam com underline. Vejamos, por exemplo, quais são os métodos de um objeto do tipo inteiro."
   ]
  },
  {
   "cell_type": "code",
   "execution_count": 20,
   "metadata": {},
   "outputs": [],
   "source": [
    "n = 5\n",
    "dir(n)"
   ]
  },
  {
   "cell_type": "markdown",
   "metadata": {},
   "source": [
    "Há apenas 8 métodos públicos: bit_length, conjugate, denominator, from_bytes, imag, numerator, real e to_bytes."
   ]
  },
  {
   "cell_type": "markdown",
   "metadata": {},
   "source": [
    "Ao consultar os métodos de um objeto do tipo lista, notamos um método chamado <i>count</i>. Para saber como usar o método, podemos utilizar a built-in function <i>help</i>."
   ]
  },
  {
   "cell_type": "code",
   "execution_count": 21,
   "metadata": {},
   "outputs": [],
   "source": [
    "L = [1, 1, 2, 3, 2, 3, 2, 4, 5, 5]\n",
    "help(L.count)"
   ]
  },
  {
   "cell_type": "markdown",
   "metadata": {},
   "source": [
    "A ajuda fala que o método <i>count</i> precisa de um <i>value</i>. Ao passar um valor para o método, este retorna o número de ocorrências daquele valor na lista. Vejamos na prática, contaremos quantos inteiros <i>2</i> temos na lista <i>L</i>."
   ]
  },
  {
   "cell_type": "code",
   "execution_count": 22,
   "metadata": {},
   "outputs": [],
   "source": [
    "L.count(2)"
   ]
  },
  {
   "cell_type": "markdown",
   "metadata": {},
   "source": [
    "O inteiro <i>2</i> passado para o método <i>count</i> é chamado de parâmetro do método. Alguns métodos não possuem parâmetros. Por exemplo, o método <i>upper</i> de strings transforma a string deixando todas as letras maiúsculas."
   ]
  },
  {
   "cell_type": "code",
   "execution_count": 23,
   "metadata": {},
   "outputs": [
    {
     "data": {
      "text/plain": [
       "'HELLO, WORLD!'"
      ]
     },
     "execution_count": 23,
     "metadata": {},
     "output_type": "execute_result"
    }
   ],
   "source": [
    "saudacoes_antes = \"Hello, world!\"\n",
    "saudacoes_antes.upper()"
   ]
  },
  {
   "cell_type": "markdown",
   "metadata": {},
   "source": [
    "Observe o quanto é fácil passar todo um texto enorme para maiúsculo sem ter que digitar tudo novamente."
   ]
  },
  {
   "cell_type": "markdown",
   "metadata": {},
   "source": [
    "É preciso também se atentar à sintaxe para utilização de métodos. Começa com a variável, seguida de um ponto, seguida do método, seguido de parênteses. Dentro dos parênteses são passados, se houver, os parâmetros. Essa sintaxe é necessária para que o interpretador Python entenda o que estamos pedindo para ele executar."
   ]
  },
  {
   "cell_type": "markdown",
   "metadata": {},
   "source": [
    "<h3>6. Operando objetos</h3>"
   ]
  },
  {
   "cell_type": "markdown",
   "metadata": {},
   "source": [
    "Da mesma forma que operamos números inteiros, podemos operar objetos em Python. Por exemplo, podemos somar dois objetos do tipo inteiro utilizando o sinal de soma +:"
   ]
  },
  {
   "cell_type": "code",
   "execution_count": 24,
   "metadata": {},
   "outputs": [
    {
     "name": "stdout",
     "output_type": "stream",
     "text": [
      "7\n"
     ]
    }
   ],
   "source": [
    "n = 3\n",
    "m = 4\n",
    "total = n + m\n",
    "print(total)"
   ]
  },
  {
   "cell_type": "markdown",
   "metadata": {},
   "source": [
    "A variável <i>total</i> é do tipo inteiro. Mas, não necessariamente uma operação retorna o mesmo tipo de objeto daqueles que foram operados. Por exemplo, na divisão de dois inteiros, o objeto retornado é do tipo float."
   ]
  },
  {
   "cell_type": "code",
   "execution_count": 25,
   "metadata": {},
   "outputs": [
    {
     "name": "stdout",
     "output_type": "stream",
     "text": [
      "0.75\n",
      "<class 'float'>\n"
     ]
    }
   ],
   "source": [
    "n = 3\n",
    "m = 4\n",
    "total = 3/4\n",
    "print(total)\n",
    "print(type(total))"
   ]
  },
  {
   "cell_type": "markdown",
   "metadata": {},
   "source": [
    "Ao operar strings, elas são concatenadas:"
   ]
  },
  {
   "cell_type": "code",
   "execution_count": 26,
   "metadata": {},
   "outputs": [
    {
     "name": "stdout",
     "output_type": "stream",
     "text": [
      "Hello, world!\n"
     ]
    }
   ],
   "source": [
    "n = \"Hello,\"\n",
    "m = \" world!\"\n",
    "total = n + m\n",
    "print(total)"
   ]
  },
  {
   "cell_type": "markdown",
   "metadata": {},
   "source": [
    "O mesmo acontece com listas e tuplas:"
   ]
  },
  {
   "cell_type": "code",
   "execution_count": 27,
   "metadata": {},
   "outputs": [
    {
     "name": "stdout",
     "output_type": "stream",
     "text": [
      "[1, 2, 4, 5, 7, 9]\n"
     ]
    }
   ],
   "source": [
    "n = [1,2,4]\n",
    "m = [5,7,9]\n",
    "total = n + m\n",
    "print(total)"
   ]
  },
  {
   "cell_type": "markdown",
   "metadata": {},
   "source": [
    "Além dos operadores aritméticos, temos os operadores lógicos. Novamente, os códigos a seguir serão comentados:"
   ]
  },
  {
   "cell_type": "code",
   "execution_count": 28,
   "metadata": {},
   "outputs": [
    {
     "data": {
      "text/plain": [
       "False"
      ]
     },
     "execution_count": 28,
     "metadata": {},
     "output_type": "execute_result"
    }
   ],
   "source": [
    "# operador maior\n",
    "5 > 7"
   ]
  },
  {
   "cell_type": "code",
   "execution_count": 29,
   "metadata": {},
   "outputs": [
    {
     "data": {
      "text/plain": [
       "False"
      ]
     },
     "execution_count": 29,
     "metadata": {},
     "output_type": "execute_result"
    }
   ],
   "source": [
    "# operador menor ou igual\n",
    "5 >= 7"
   ]
  },
  {
   "cell_type": "code",
   "execution_count": 30,
   "metadata": {},
   "outputs": [
    {
     "data": {
      "text/plain": [
       "False"
      ]
     },
     "execution_count": 30,
     "metadata": {},
     "output_type": "execute_result"
    }
   ],
   "source": [
    "# operador de igualdade\n",
    "5 == 7"
   ]
  },
  {
   "cell_type": "code",
   "execution_count": 31,
   "metadata": {},
   "outputs": [
    {
     "data": {
      "text/plain": [
       "True"
      ]
     },
     "execution_count": 31,
     "metadata": {},
     "output_type": "execute_result"
    }
   ],
   "source": [
    "# operador de desigualdade\n",
    "5 != 7"
   ]
  },
  {
   "cell_type": "code",
   "execution_count": 32,
   "metadata": {},
   "outputs": [
    {
     "data": {
      "text/plain": [
       "False"
      ]
     },
     "execution_count": 32,
     "metadata": {},
     "output_type": "execute_result"
    }
   ],
   "source": [
    "# operador de pertinência\n",
    "5 in [1,2,4,6,7]"
   ]
  },
  {
   "cell_type": "code",
   "execution_count": 33,
   "metadata": {},
   "outputs": [
    {
     "data": {
      "text/plain": [
       "True"
      ]
     },
     "execution_count": 33,
     "metadata": {},
     "output_type": "execute_result"
    }
   ],
   "source": [
    "# operador de pertinência\n",
    "6 in [1,2,4,6,7]"
   ]
  },
  {
   "cell_type": "markdown",
   "metadata": {},
   "source": [
    "<h3>7. Fatiando objetos</h3>"
   ]
  },
  {
   "cell_type": "markdown",
   "metadata": {},
   "source": [
    "Objetos iteráveis podem ser fatiados. Isso quer dizer que podemos acessar partes destes objetos. Considere a variável do tipo string a seguir:"
   ]
  },
  {
   "cell_type": "code",
   "execution_count": 34,
   "metadata": {},
   "outputs": [],
   "source": [
    "name = \"skywalker\""
   ]
  },
  {
   "cell_type": "markdown",
   "metadata": {},
   "source": [
    "Para acessar partes da string acima, utilizaremos os índices desta. Os índices começam em 0. É possível contar de trás para frente, sendo que o último caractere tem o índice -1."
   ]
  },
  {
   "cell_type": "markdown",
   "metadata": {},
   "source": [
    "<img src=\"slicing.png\" width=\"400px\">"
   ]
  },
  {
   "cell_type": "markdown",
   "metadata": {},
   "source": [
    "Vejamos alguns exemplos utilizando strings:"
   ]
  },
  {
   "cell_type": "code",
   "execution_count": 35,
   "metadata": {},
   "outputs": [
    {
     "data": {
      "text/plain": [
       "'s'"
      ]
     },
     "execution_count": 35,
     "metadata": {},
     "output_type": "execute_result"
    }
   ],
   "source": [
    "# a primeira letra\n",
    "name[0]"
   ]
  },
  {
   "cell_type": "code",
   "execution_count": 36,
   "metadata": {},
   "outputs": [
    {
     "data": {
      "text/plain": [
       "'k'"
      ]
     },
     "execution_count": 36,
     "metadata": {},
     "output_type": "execute_result"
    }
   ],
   "source": [
    "# a segunda letra\n",
    "name[1]"
   ]
  },
  {
   "cell_type": "code",
   "execution_count": 37,
   "metadata": {},
   "outputs": [
    {
     "data": {
      "text/plain": [
       "'r'"
      ]
     },
     "execution_count": 37,
     "metadata": {},
     "output_type": "execute_result"
    }
   ],
   "source": [
    "# a última letra\n",
    "name[-1]"
   ]
  },
  {
   "cell_type": "code",
   "execution_count": 38,
   "metadata": {},
   "outputs": [
    {
     "data": {
      "text/plain": [
       "'e'"
      ]
     },
     "execution_count": 38,
     "metadata": {},
     "output_type": "execute_result"
    }
   ],
   "source": [
    "# a penúltima letra\n",
    "name[-2]"
   ]
  },
  {
   "cell_type": "code",
   "execution_count": 39,
   "metadata": {},
   "outputs": [
    {
     "data": {
      "text/plain": [
       "'sky'"
      ]
     },
     "execution_count": 39,
     "metadata": {},
     "output_type": "execute_result"
    }
   ],
   "source": [
    "# do começo até a terceira\n",
    "name[:3]"
   ]
  },
  {
   "cell_type": "code",
   "execution_count": 40,
   "metadata": {},
   "outputs": [
    {
     "data": {
      "text/plain": [
       "'skywalk'"
      ]
     },
     "execution_count": 40,
     "metadata": {},
     "output_type": "execute_result"
    }
   ],
   "source": [
    "# do começo até a penúltima\n",
    "name[:-2]"
   ]
  },
  {
   "cell_type": "code",
   "execution_count": 41,
   "metadata": {},
   "outputs": [
    {
     "data": {
      "text/plain": [
       "'walker'"
      ]
     },
     "execution_count": 41,
     "metadata": {},
     "output_type": "execute_result"
    }
   ],
   "source": [
    "# da quarta até a última\n",
    "name[3:]"
   ]
  },
  {
   "cell_type": "code",
   "execution_count": 42,
   "metadata": {},
   "outputs": [
    {
     "data": {
      "text/plain": [
       "'walk'"
      ]
     },
     "execution_count": 42,
     "metadata": {},
     "output_type": "execute_result"
    }
   ],
   "source": [
    "# da quarta até a ante-penúltima\n",
    "name[3:-2]"
   ]
  },
  {
   "cell_type": "code",
   "execution_count": 43,
   "metadata": {},
   "outputs": [
    {
     "data": {
      "text/plain": [
       "'kwle'"
      ]
     },
     "execution_count": 43,
     "metadata": {},
     "output_type": "execute_result"
    }
   ],
   "source": [
    "# da segunda até a penúltima de 2 em 2\n",
    "name[1:-1:2]"
   ]
  },
  {
   "cell_type": "code",
   "execution_count": 44,
   "metadata": {},
   "outputs": [
    {
     "data": {
      "text/plain": [
       "'elwk'"
      ]
     },
     "execution_count": 44,
     "metadata": {},
     "output_type": "execute_result"
    }
   ],
   "source": [
    "# da penúltima até a segunda de 2 em 2\n",
    "name[-2:0:-2]"
   ]
  },
  {
   "cell_type": "code",
   "execution_count": 45,
   "metadata": {},
   "outputs": [
    {
     "data": {
      "text/plain": [
       "'syak'"
      ]
     },
     "execution_count": 45,
     "metadata": {},
     "output_type": "execute_result"
    }
   ],
   "source": [
    "# do começo até a penúltima de 2 em 2\n",
    "name[:-1:2]"
   ]
  },
  {
   "cell_type": "code",
   "execution_count": 46,
   "metadata": {},
   "outputs": [
    {
     "data": {
      "text/plain": [
       "'swk'"
      ]
     },
     "execution_count": 46,
     "metadata": {},
     "output_type": "execute_result"
    }
   ],
   "source": [
    "# do começo até a última de 3 em 3\n",
    "name[::3]"
   ]
  },
  {
   "cell_type": "code",
   "execution_count": 47,
   "metadata": {},
   "outputs": [
    {
     "data": {
      "text/plain": [
       "'reklawyks'"
      ]
     },
     "execution_count": 47,
     "metadata": {},
     "output_type": "execute_result"
    }
   ],
   "source": [
    "# da úlima até a primeira de um em 1\n",
    "name[::-1]"
   ]
  },
  {
   "cell_type": "markdown",
   "metadata": {},
   "source": [
    "O mesmo processo de fatiamento pode ser aplicado em qualquer tipo de iterável. Por exemplo, em objetos do tipo lista ou do tipo tupla."
   ]
  },
  {
   "cell_type": "markdown",
   "metadata": {},
   "source": [
    "<h3>8. If... Else...</h3>"
   ]
  },
  {
   "cell_type": "markdown",
   "metadata": {},
   "source": [
    "As palavras <i>if</i> e <i>else</i> são palavras reservadas da linguagem Python. Elas são utilizadas para controlar o fluxo de execução de um código através de condições. A palavra <i>if</i> significa \"se\" e a palavra <i>else</i> significa \"senão\":"
   ]
  },
  {
   "cell_type": "code",
   "execution_count": 48,
   "metadata": {},
   "outputs": [
    {
     "name": "stdout",
     "output_type": "stream",
     "text": [
      "Não pode entrar!\n"
     ]
    }
   ],
   "source": [
    "idade = 17\n",
    "\n",
    "if idade >= 18:\n",
    "    print(\"Pode entrar!\")\n",
    "else:\n",
    "    print(\"Não pode entrar!\")"
   ]
  },
  {
   "cell_type": "markdown",
   "metadata": {},
   "source": [
    "No exemplo acima, vimos que a linha 4 não foi executada. De fato, uma vez que a condição <i>idade >= 18</i> é falsa, códigos após uma linha contendo <i>if</i> e identados não serão executados. Por identado, considere códigos que iniciam por 4 espaços. Observe que há quatro espaços antes do código na linha 4. Os 4 espaços indicam o que deve ser executado se a condição for verdadeira. Da mesma forma há 4 espaços no início da linha 6. Neste segundo caso, os 4 espaços indicam o que deve ser executado se a condição for falsa. Vejamos outros exemplos."
   ]
  },
  {
   "cell_type": "code",
   "execution_count": 49,
   "metadata": {},
   "outputs": [
    {
     "name": "stdout",
     "output_type": "stream",
     "text": [
      "Você é de maior.\n",
      "Pode entrar\n",
      "Próximo!\n"
     ]
    }
   ],
   "source": [
    "idade = 21\n",
    "\n",
    "if idade >= 18:\n",
    "    print(\"Você é de maior.\")\n",
    "    print(\"Pode entrar\")\n",
    "else:\n",
    "    print(\"Você é de menor.\")\n",
    "    print(\"Não pode entar.\")\n",
    "print(\"Próximo!\")"
   ]
  },
  {
   "cell_type": "markdown",
   "metadata": {},
   "source": [
    "No exemplo acima, a condição <i>idade >= 18</i> é verdadeira e, por isso, as linhas 4 e 5 foram executadas. Se fosse falsa, seriam as linhas 7 e 8 as executadas. Como a linha 9 não está identada (digitada após 4 espaços), ela é executada de toda forma."
   ]
  },
  {
   "cell_type": "markdown",
   "metadata": {},
   "source": [
    "<h3>9. Loop for</h3>"
   ]
  },
  {
   "cell_type": "markdown",
   "metadata": {},
   "source": [
    "Outra palavra reservada na linguagem Python é <i>for</i>. Ela serve para que em cada iteração, acessemos valores de um iterável. Por exemplo, podemos acessar em cada iteração as letras de uma string ou os elementos de uma lista."
   ]
  },
  {
   "cell_type": "code",
   "execution_count": 50,
   "metadata": {},
   "outputs": [
    {
     "name": "stdout",
     "output_type": "stream",
     "text": [
      "P\n",
      "y\n",
      "t\n",
      "h\n",
      "o\n",
      "n\n"
     ]
    }
   ],
   "source": [
    "for letra in \"Python\":\n",
    "    print(letra)"
   ]
  },
  {
   "cell_type": "markdown",
   "metadata": {},
   "source": [
    "No exemplo acima, a variável <i>letra</i> assume uma das letras do objeto \"Python\" a cada iteração. Assim como no if... else..., a cada iteração são executadas apenas as linhas que tiverem identadas (após 4 espaços)."
   ]
  },
  {
   "cell_type": "code",
   "execution_count": 51,
   "metadata": {},
   "outputs": [
    {
     "name": "stdout",
     "output_type": "stream",
     "text": [
      "Entendi!\n",
      "Entendi!\n",
      "Entendi!\n",
      "Entendi!\n",
      "Entendi!\n",
      "Entendi!\n",
      "Vamos dominar o mundo!\n"
     ]
    }
   ],
   "source": [
    "for letra in \"Python\":\n",
    "    print(\"Entendi!\")\n",
    "print(\"Vamos dominar o mundo!\")"
   ]
  },
  {
   "cell_type": "markdown",
   "metadata": {},
   "source": [
    "É possível colocar condicionais dentro de loops, loops dentro de condicionais, condicionais dentro de condicionais e loops dentro de loops. Vejamos um exemplo de como imprimir apenas os números maiores que 5 de uma lista."
   ]
  },
  {
   "cell_type": "code",
   "execution_count": 52,
   "metadata": {},
   "outputs": [
    {
     "name": "stdout",
     "output_type": "stream",
     "text": [
      "12\n",
      "56\n",
      "21\n",
      "7\n",
      "8\n"
     ]
    }
   ],
   "source": [
    "for number in [5,12,2,56,-20,21,3,4,7,8]:\n",
    "    if number > 5:\n",
    "        print(number)"
   ]
  },
  {
   "cell_type": "markdown",
   "metadata": {},
   "source": [
    "<h3>10. Funções</h3>"
   ]
  },
  {
   "cell_type": "markdown",
   "metadata": {},
   "source": [
    "Apesar da linguagem Python ter várias built-in functions, às vezes é necessário criamos nossas próprias funções. Para facilitar, pense em função como algo que possui três componentes: entrada, lógica que transforma a entrada em saída e a saída. A palavra Python reservada para criar funções é <i>def</i>. Como exemplo, veremos como fazer uma função que retorna como saída o quadrado da entrada: "
   ]
  },
  {
   "cell_type": "code",
   "execution_count": 53,
   "metadata": {},
   "outputs": [],
   "source": [
    "def func(entrada):\n",
    "    saida = entrada * entrada # logica\n",
    "    return saida "
   ]
  },
  {
   "cell_type": "markdown",
   "metadata": {},
   "source": [
    "O nome da função acima, escolhido por nós, é <i>func</i>. Podemos usá-la como usamos uma built-in function:"
   ]
  },
  {
   "cell_type": "code",
   "execution_count": 54,
   "metadata": {},
   "outputs": [
    {
     "name": "stdout",
     "output_type": "stream",
     "text": [
      "81\n"
     ]
    }
   ],
   "source": [
    "x = 9\n",
    "resultado = func(x)\n",
    "print(resultado)"
   ]
  },
  {
   "cell_type": "markdown",
   "metadata": {},
   "source": [
    "<h3>11. Bibliotecas</h3>"
   ]
  },
  {
   "cell_type": "markdown",
   "metadata": {},
   "source": [
    "A comunidade Python é gigante e muitos programadores dessa comunidade criam bibliotecas com outras funções úteis e disponibilizam essas bibliotecas gratuitamente em repositórios on-line."
   ]
  },
  {
   "cell_type": "markdown",
   "metadata": {},
   "source": [
    "Ao instalar o Anaconda, já foram instaladas diversas bibliotecas úteis como, por exemplo, a biblioteca <i>numpy</i>, utilizada para trabalhar com matrizes ou tabelas. Para importar uma biblioteca, utilizamos a palavra reservada <i>import</i>."
   ]
  },
  {
   "cell_type": "code",
   "execution_count": 55,
   "metadata": {},
   "outputs": [],
   "source": [
    "import numpy"
   ]
  },
  {
   "cell_type": "markdown",
   "metadata": {},
   "source": [
    "Dentro de uma bibliotecas temos mais objetos e mais funções para usarmos. Um objeto muito utilizado da biblioteca numpy é o <i>ndarray</i> para fazer matrizes."
   ]
  },
  {
   "cell_type": "code",
   "execution_count": 56,
   "metadata": {},
   "outputs": [
    {
     "data": {
      "text/plain": [
       "numpy.ndarray"
      ]
     },
     "execution_count": 56,
     "metadata": {},
     "output_type": "execute_result"
    }
   ],
   "source": [
    "A = numpy.array([[1,2,5],[0,-3,-1],[0,2,4],[5,6,8]])\n",
    "type(A)"
   ]
  },
  {
   "cell_type": "markdown",
   "metadata": {},
   "source": [
    "Algumas built-in functions são adaptadas para esses novos objetos e, em alguns casos, funcionam perfeitamente, como por exemplo a built-in function print:"
   ]
  },
  {
   "cell_type": "code",
   "execution_count": 57,
   "metadata": {},
   "outputs": [
    {
     "name": "stdout",
     "output_type": "stream",
     "text": [
      "[[ 1  2  5]\n",
      " [ 0 -3 -1]\n",
      " [ 0  2  4]\n",
      " [ 5  6  8]]\n"
     ]
    }
   ],
   "source": [
    "print(A)"
   ]
  },
  {
   "cell_type": "markdown",
   "metadata": {},
   "source": [
    "Esses novos objetos funcionam como qualquer outro objeto Python. Logo têm seus próprios métodos privados e públicos. Por exemplo, o método <i>reshape</i> muda as dimensões de um objeto do tipo ndarray:"
   ]
  },
  {
   "cell_type": "code",
   "execution_count": 58,
   "metadata": {},
   "outputs": [
    {
     "data": {
      "text/plain": [
       "array([[ 1,  2,  5,  0, -3, -1],\n",
       "       [ 0,  2,  4,  5,  6,  8]])"
      ]
     },
     "execution_count": 58,
     "metadata": {},
     "output_type": "execute_result"
    }
   ],
   "source": [
    "# transformando A em uma matriz com\n",
    "# 2 linhas e 6 colunas\n",
    "A.reshape(2,6)"
   ]
  },
  {
   "cell_type": "markdown",
   "metadata": {},
   "source": [
    "<h3>Conclusão</h3>"
   ]
  },
  {
   "cell_type": "markdown",
   "metadata": {},
   "source": [
    "É isso aí pessoal, essa é apenas uma visão geral para quem está começando. Agora é só praticar."
   ]
  },
  {
   "cell_type": "markdown",
   "metadata": {},
   "source": [
    "Algumas perguntas devem ter surgido, por exemplo:\n",
    "\n",
    "- Qual a diferença entre tupla e lista?\n",
    "- Quando uso dicionários? Dicionários são Json?\n",
    "- Uma função pode não retornar nada?\n",
    "- Posso criar meus próprios objetos com meus próprios métodos?\n",
    "- Porque o Jupyter Notebook mostra o objeto mesmo sem a built-in function <i>print</i>?\n",
    "- Como faço e como uso conjuntos em Python?\n",
    "- Como leio arquivos de textos ou planilhas?\n",
    "- Como coleto dados de páginas de internet de forma automatizada?\n",
    "- É possível fazer um chatbot em Python?\n",
    "- É possível ler e manipular imagens em Python?\n",
    "- Como faço jogos em Python?\n",
    "- Como crio minhas próprias bibliotecas?\n",
    "- Como usar Python para fazer websites?\n",
    "- Como usar Python para trabalhar com inteligência artificial?\n",
    "- Python é rápido como as outras linguagens? Tem como acelerar?\n"
   ]
  },
  {
   "cell_type": "markdown",
   "metadata": {},
   "source": [
    "Nós da comunidade <b>UraPython</b> temos por missão levar todo esse conhecimento a quem quer que seja. Queremos com isso, dar as mesmas oportunidades às pessoas, para que estas possam ter uma vida digna, confortável e feliz. Além disso, queremos oferecer as habilidades essenciais para que as pessoas se adaptem continuamente às tecnologias emergentes na velocidade que o futuro exige."
   ]
  },
  {
   "cell_type": "markdown",
   "metadata": {},
   "source": [
    "Até a próxima!"
   ]
  },
  {
   "cell_type": "code",
   "execution_count": null,
   "metadata": {},
   "outputs": [],
   "source": []
  }
 ],
 "metadata": {
  "kernelspec": {
   "display_name": "Python 3",
   "language": "python",
   "name": "python3"
  },
  "language_info": {
   "codemirror_mode": {
    "name": "ipython",
    "version": 3
   },
   "file_extension": ".py",
   "mimetype": "text/x-python",
   "name": "python",
   "nbconvert_exporter": "python",
   "pygments_lexer": "ipython3",
   "version": "3.7.3"
  }
 },
 "nbformat": 4,
 "nbformat_minor": 2
}
