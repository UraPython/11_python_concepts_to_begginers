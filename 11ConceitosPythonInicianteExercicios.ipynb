{
 "cells": [
  {
   "cell_type": "markdown",
   "metadata": {
    "colab_type": "text",
    "id": "2v7hYL5ioTbG"
   },
   "source": [
    "# 11 conceitos para iniciantes em Python: Exercícios!"
   ]
  },
  {
   "cell_type": "markdown",
   "metadata": {
    "colab_type": "text",
    "id": "PhJyO1FroekK"
   },
   "source": [
    "## 1 - Strings"
   ]
  },
  {
   "cell_type": "markdown",
   "metadata": {
    "colab_type": "text",
    "id": "a-ues284ounT"
   },
   "source": [
    "Ao usar a built-in function <i>print</i> em uma string, ela é impressa ao executar a célula. Por exemplo:"
   ]
  },
  {
   "cell_type": "code",
   "execution_count": 1,
   "metadata": {
    "colab": {
     "base_uri": "https://localhost:8080/",
     "height": 35
    },
    "colab_type": "code",
    "id": "aVVr9oWopAmS",
    "outputId": "d968a25b-c087-4d25-a47d-f5aa867ff265"
   },
   "outputs": [
    {
     "name": "stdout",
     "output_type": "stream",
     "text": [
      "Hello, world!\n"
     ]
    }
   ],
   "source": [
    "print(\"Hello, world!\")"
   ]
  },
  {
   "cell_type": "markdown",
   "metadata": {
    "colab_type": "text",
    "id": "X-XJVDpGpC36"
   },
   "source": [
    "Sua missão é usar a built-in function <i>print</i> para imprimir os textos abaixo:"
   ]
  },
  {
   "cell_type": "markdown",
   "metadata": {
    "colab_type": "text",
    "id": "8dZItUuzpQQz"
   },
   "source": [
    "o tempo duro<br>\n",
    "tudo esfarela"
   ]
  },
  {
   "cell_type": "code",
   "execution_count": 2,
   "metadata": {
    "colab": {},
    "colab_type": "code",
    "id": "u-hF3RO0p49o"
   },
   "outputs": [],
   "source": [
    "# Use essa célula para imprimir o texto acima\n",
    "## TODO"
   ]
  },
  {
   "cell_type": "markdown",
   "metadata": {
    "colab_type": "text",
    "id": "rZX8EAqzp05r"
   },
   "source": [
    "o tempo duro<br>\n",
    "<br>\n",
    "tudo esfarela"
   ]
  },
  {
   "cell_type": "code",
   "execution_count": 3,
   "metadata": {
    "colab": {},
    "colab_type": "code",
    "id": "-3tcvzEhqLjk"
   },
   "outputs": [],
   "source": [
    "# Use essa célula para imprimir o texto acima\n",
    "## TODO"
   ]
  },
  {
   "cell_type": "markdown",
   "metadata": {
    "colab_type": "text",
    "id": "qds1R0hHqPRz"
   },
   "source": [
    "o tempo duro<br>\n",
    "&nbsp; &nbsp; &nbsp; &nbsp; tudo esfarela"
   ]
  },
  {
   "cell_type": "code",
   "execution_count": 4,
   "metadata": {
    "colab": {},
    "colab_type": "code",
    "id": "48JPsyaqqlUj"
   },
   "outputs": [],
   "source": [
    "# Use essa célula para imprimir o texto acima\n",
    "## TODO"
   ]
  },
  {
   "cell_type": "markdown",
   "metadata": {
    "colab_type": "text",
    "id": "S-oN4l-2qq4r"
   },
   "source": [
    "Ariano Suassuna (1927 - 2014) dramaturgo e poeta brasileiro"
   ]
  },
  {
   "cell_type": "code",
   "execution_count": 5,
   "metadata": {
    "colab": {},
    "colab_type": "code",
    "id": "x2qZVdYfuxrL"
   },
   "outputs": [],
   "source": [
    "# Use essa célula para imprimir o texto acima\n",
    "## TODO"
   ]
  },
  {
   "cell_type": "markdown",
   "metadata": {
    "colab_type": "text",
    "id": "RLD9j3ljuzVE"
   },
   "source": [
    "## 2 - Variáveis "
   ]
  },
  {
   "cell_type": "markdown",
   "metadata": {
    "colab_type": "text",
    "id": "evnhojHcwS1H"
   },
   "source": [
    "Na seção anterior vimos exemplos de objetos do tipo string. É possível guardar objetos de quaisquer tipo em uma variável Python. Para guardar o objeto do tipo string \"urapython\" na variável <i>comunidade</i> podemos seguir como no exemplo:"
   ]
  },
  {
   "cell_type": "code",
   "execution_count": 6,
   "metadata": {
    "colab": {},
    "colab_type": "code",
    "id": "uRMcBC7zwthD"
   },
   "outputs": [],
   "source": [
    "comunidade = \"urapython\""
   ]
  },
  {
   "cell_type": "markdown",
   "metadata": {
    "colab_type": "text",
    "id": "j_0JGc0bwvr0"
   },
   "source": [
    "A palavra <i>comunidade</i> identifica a variável. Nem todas as palavras podem ser usadas como identificadores. Sua missão agora é verificar quais identificadores abaixo não são válidos. Porque não são válidos?"
   ]
  },
  {
   "cell_type": "code",
   "execution_count": 0,
   "metadata": {
    "colab": {},
    "colab_type": "code",
    "id": "LdjsKDU2xEQb"
   },
   "outputs": [],
   "source": [
    "# execute essa célula para testar o identificador\n",
    "1comunidade = \"urapython\""
   ]
  },
  {
   "cell_type": "code",
   "execution_count": 0,
   "metadata": {
    "colab": {},
    "colab_type": "code",
    "id": "xdzZQq36xMHt"
   },
   "outputs": [],
   "source": [
    "# execute essa célula para testar o identificador\n",
    "comu nidade = \"urapython\""
   ]
  },
  {
   "cell_type": "code",
   "execution_count": 0,
   "metadata": {
    "colab": {},
    "colab_type": "code",
    "id": "2PdKIkGOxPkc"
   },
   "outputs": [],
   "source": [
    "# execute essa célula para testar o identificador\n",
    "comunid@de = \"urapython\""
   ]
  },
  {
   "cell_type": "code",
   "execution_count": 0,
   "metadata": {
    "colab": {},
    "colab_type": "code",
    "id": "D95TcAjJxfxc"
   },
   "outputs": [],
   "source": [
    "# execute essa célula para testar o identificador\n",
    "nossaComunidade = \"urapython\""
   ]
  },
  {
   "cell_type": "code",
   "execution_count": 0,
   "metadata": {
    "colab": {},
    "colab_type": "code",
    "id": "8N7vjHJzxlun"
   },
   "outputs": [],
   "source": [
    "# execute essa célula para testar o identificador\n",
    "nossa_comunidade = \"urapython\""
   ]
  },
  {
   "cell_type": "code",
   "execution_count": 0,
   "metadata": {
    "colab": {},
    "colab_type": "code",
    "id": "EnMV6fN2xopU"
   },
   "outputs": [],
   "source": [
    "# execute essa célula para testar o identificador\n",
    "comunidade1 = \"urapython\""
   ]
  },
  {
   "cell_type": "markdown",
   "metadata": {
    "colab_type": "text",
    "id": "c8jPF9-UxsC7"
   },
   "source": [
    "Em resumo, use apenas letras maiúsculas, minúsculas e underline. Se for usar números, não use no começo do identificador. "
   ]
  },
  {
   "cell_type": "markdown",
   "metadata": {
    "colab_type": "text",
    "id": "RjONNb5Bx3GT"
   },
   "source": [
    "## 3 - Built-in functions"
   ]
  },
  {
   "cell_type": "markdown",
   "metadata": {
    "colab_type": "text",
    "id": "YH6OZ844yI3D"
   },
   "source": [
    "Vimos dois exemplos de built-in function, a saber, as funções <i>print</i> e <i>len</i>. A primeira imprime a variável, enquanto a segunda conta quantos elementos iteráveis a variável possui. No caso de strings, os elementos iteráveis são seus caracteres."
   ]
  },
  {
   "cell_type": "markdown",
   "metadata": {
    "colab_type": "text",
    "id": "4Q9E6gshydeU"
   },
   "source": [
    "Agora, estudaremos outras built-in functions. A built-in function <i>input</i> solicita que o usuário digite um valor num campo de entrada. Esse valor é transformado num objeto do tipo string:"
   ]
  },
  {
   "cell_type": "code",
   "execution_count": 8,
   "metadata": {
    "colab": {
     "base_uri": "https://localhost:8080/",
     "height": 52
    },
    "colab_type": "code",
    "id": "Nuv2p7ity40S",
    "outputId": "e513de9f-fedc-4bb9-a3be-1dbb7dee90b6"
   },
   "outputs": [],
   "source": [
    "# digite urapython no campo de entrada após executar essa célula\n",
    "comunidade = input()\n",
    "print(comunidade)"
   ]
  },
  {
   "cell_type": "markdown",
   "metadata": {
    "colab_type": "text",
    "id": "OFpaUwACzBAF"
   },
   "source": [
    "Observe que, enquanto a built-in function <i>input</i> não requer parâmetros, a built-in function <i>print</i> requer um parâmetro, que seria o objeto a ser impresso. A built-in function <i>type</i> também necessita de um objeto qualquer como parâmetro, essa função imprime o tipo do objeto."
   ]
  },
  {
   "cell_type": "code",
   "execution_count": 9,
   "metadata": {
    "colab": {},
    "colab_type": "code",
    "id": "VCE84PmEz6Uc"
   },
   "outputs": [],
   "source": [
    "# passe a variável comunidade como parâmetro para a built-in function type\n",
    "## TODO"
   ]
  },
  {
   "cell_type": "markdown",
   "metadata": {
    "colab_type": "text",
    "id": "ygi67jsl0SPs"
   },
   "source": [
    "Cada caracter tem um valor na tabela ascii. Para saber qual é esse valor, basta usar a built-in function <i>ord</i>"
   ]
  },
  {
   "cell_type": "code",
   "execution_count": 10,
   "metadata": {
    "colab": {},
    "colab_type": "code",
    "id": "x1AG30xv0Eq9"
   },
   "outputs": [],
   "source": [
    "# passe a string \"a\" como parâmetro para a built-in function ord\n",
    "## TODO"
   ]
  },
  {
   "cell_type": "markdown",
   "metadata": {
    "colab_type": "text",
    "id": "C1KY4V4A0QkM"
   },
   "source": [
    "Algumas built-in functions, como <i>ord</i>, <i>len</i> e <i>type</i> permitem que guardemos o resultado numa variável. Por exemplo:"
   ]
  },
  {
   "cell_type": "code",
   "execution_count": 11,
   "metadata": {
    "colab": {
     "base_uri": "https://localhost:8080/",
     "height": 35
    },
    "colab_type": "code",
    "id": "RNePHuWX00Za",
    "outputId": "31f97031-460d-4219-ffd9-877827a84845"
   },
   "outputs": [
    {
     "name": "stdout",
     "output_type": "stream",
     "text": [
      "98\n"
     ]
    }
   ],
   "source": [
    "# guardando o valor de \"b\" na tabela ascii\n",
    "n = ord(\"b\")\n",
    "print(n)"
   ]
  },
  {
   "cell_type": "code",
   "execution_count": 12,
   "metadata": {
    "colab": {},
    "colab_type": "code",
    "id": "8CAqi1Zc0_bM"
   },
   "outputs": [],
   "source": [
    "# Qual o tipo da variável n?\n",
    "# Passe n como parâmetro para a built-in function type\n",
    "## TODO"
   ]
  },
  {
   "cell_type": "markdown",
   "metadata": {
    "colab_type": "text",
    "id": "rCRrOTD21JNb"
   },
   "source": [
    "## 4. Tipos de variáveis"
   ]
  },
  {
   "cell_type": "markdown",
   "metadata": {
    "colab_type": "text",
    "id": "qcQf2Q221QHb"
   },
   "source": [
    "Na seção anterior conhecemos a built-in function <i>type</i>. Com ela é possível saber os tipos de variáveis e objetos. É muito importante saber qual o tipo do objeto que estamos trabalhando, pois cada objeto tem uma maneira diferente de ser trabalhado. Lembremos os exemplos vistos até agora:"
   ]
  },
  {
   "cell_type": "code",
   "execution_count": 13,
   "metadata": {
    "colab": {
     "base_uri": "https://localhost:8080/",
     "height": 35
    },
    "colab_type": "code",
    "id": "41bsrvhV1u-M",
    "outputId": "72af926f-4726-4fcf-e412-60a940e4a4e0"
   },
   "outputs": [
    {
     "data": {
      "text/plain": [
       "str"
      ]
     },
     "execution_count": 13,
     "metadata": {},
     "output_type": "execute_result"
    }
   ],
   "source": [
    "# a variável comunidade é do tipo string\n",
    "comunidade = \"urapython\"\n",
    "type(comunidade)"
   ]
  },
  {
   "cell_type": "code",
   "execution_count": 14,
   "metadata": {
    "colab": {
     "base_uri": "https://localhost:8080/",
     "height": 35
    },
    "colab_type": "code",
    "id": "-UzbrIX41x39",
    "outputId": "383056a8-85c0-4d9f-cbfd-c4a1d91de0ea"
   },
   "outputs": [
    {
     "data": {
      "text/plain": [
       "int"
      ]
     },
     "execution_count": 14,
     "metadata": {},
     "output_type": "execute_result"
    }
   ],
   "source": [
    "# a variável n é do tipo inteiro\n",
    "n = ord(\"b\")\n",
    "type(n)"
   ]
  },
  {
   "cell_type": "markdown",
   "metadata": {
    "colab_type": "text",
    "id": "mVDqlmRa16Bc"
   },
   "source": [
    "As variáveis do tipo string são reconhecidas por começarem e terminarem por aspas duplas. Cada variável é reconhecida pela linguagem pela maneira como escrevemos ela. Vejamos outro exemplo:"
   ]
  },
  {
   "cell_type": "code",
   "execution_count": 15,
   "metadata": {
    "colab": {
     "base_uri": "https://localhost:8080/",
     "height": 35
    },
    "colab_type": "code",
    "id": "QJ5I09Tz2Zwi",
    "outputId": "cdf98fa7-e34f-409a-9cd1-57225ff7124b"
   },
   "outputs": [
    {
     "data": {
      "text/plain": [
       "int"
      ]
     },
     "execution_count": 15,
     "metadata": {},
     "output_type": "execute_result"
    }
   ],
   "source": [
    "a = 5\n",
    "type(a)"
   ]
  },
  {
   "cell_type": "code",
   "execution_count": 16,
   "metadata": {
    "colab": {
     "base_uri": "https://localhost:8080/",
     "height": 35
    },
    "colab_type": "code",
    "id": "RNEfuKpr2c2t",
    "outputId": "f60393c3-2a53-493d-8d00-0c608c853941"
   },
   "outputs": [
    {
     "data": {
      "text/plain": [
       "float"
      ]
     },
     "execution_count": 16,
     "metadata": {},
     "output_type": "execute_result"
    }
   ],
   "source": [
    "b = 5.0\n",
    "type(b)"
   ]
  },
  {
   "cell_type": "code",
   "execution_count": 17,
   "metadata": {
    "colab": {
     "base_uri": "https://localhost:8080/",
     "height": 35
    },
    "colab_type": "code",
    "id": "iFFCzacq2fVj",
    "outputId": "249c2373-e970-4eb6-e0b7-9fc05c730d90"
   },
   "outputs": [
    {
     "data": {
      "text/plain": [
       "str"
      ]
     },
     "execution_count": 17,
     "metadata": {},
     "output_type": "execute_result"
    }
   ],
   "source": [
    "c = \"5\"\n",
    "type(c)"
   ]
  },
  {
   "cell_type": "code",
   "execution_count": 18,
   "metadata": {
    "colab": {
     "base_uri": "https://localhost:8080/",
     "height": 35
    },
    "colab_type": "code",
    "id": "k_bJhTzU2hKL",
    "outputId": "8b08ab17-97ea-4ad0-c0a0-d6c4ab64856a"
   },
   "outputs": [
    {
     "data": {
      "text/plain": [
       "str"
      ]
     },
     "execution_count": 18,
     "metadata": {},
     "output_type": "execute_result"
    }
   ],
   "source": [
    "d = \"5.0\"\n",
    "type(d)"
   ]
  },
  {
   "cell_type": "markdown",
   "metadata": {
    "colab_type": "text",
    "id": "_ZR3Lg5S2k7z"
   },
   "source": [
    "Observe que as variáveis acima são de tipos diferentes pela maneira como as escrevemos. No tutorial temos vários tipos de variáveis. Vejamos outros 2 diferentes!"
   ]
  },
  {
   "cell_type": "code",
   "execution_count": 19,
   "metadata": {
    "colab": {},
    "colab_type": "code",
    "id": "WUQfF3iP2uX2"
   },
   "outputs": [],
   "source": [
    "# qual o tipo da variável S?\n",
    "S = {1,1,2,1,4}\n",
    "## TODO "
   ]
  },
  {
   "cell_type": "code",
   "execution_count": 20,
   "metadata": {
    "colab": {},
    "colab_type": "code",
    "id": "8rIOePfV3GXj"
   },
   "outputs": [],
   "source": [
    "# qual o tipo da variável M?\n",
    "M = map(int, S)\n",
    "## TODO"
   ]
  },
  {
   "cell_type": "markdown",
   "metadata": {
    "colab_type": "text",
    "id": "Vg2k0bNa3PVs"
   },
   "source": [
    "Porque tipos de variáveis são tão importantes?"
   ]
  },
  {
   "cell_type": "markdown",
   "metadata": {
    "colab_type": "text",
    "id": "7N-ppyZR3XY0"
   },
   "source": [
    "Cada built-in function que possui parâmetros de entrada esperam que a entrada seja de determinado tipo. Por exemplo, a built-in function <i>abs</i> espera como parâmetro de entrada uma variável do tipo inteiro:"
   ]
  },
  {
   "cell_type": "code",
   "execution_count": 21,
   "metadata": {
    "colab": {
     "base_uri": "https://localhost:8080/",
     "height": 35
    },
    "colab_type": "code",
    "id": "QB7ypwvZ3mG8",
    "outputId": "db73456e-dc0a-4644-dfd7-e62e8a528870"
   },
   "outputs": [
    {
     "name": "stdout",
     "output_type": "stream",
     "text": [
      "5\n"
     ]
    }
   ],
   "source": [
    "# a função abs calcula o valor absoluto de um inteiro\n",
    "X = -5\n",
    "valorAbsolutoDeX = abs(X)\n",
    "print(valorAbsolutoDeX)"
   ]
  },
  {
   "cell_type": "markdown",
   "metadata": {
    "colab_type": "text",
    "id": "UaMWIznI30EF"
   },
   "source": [
    "O que acontece quando tentamos calcular o valor absoluto de uma variável do tipo <i>list</i>?"
   ]
  },
  {
   "cell_type": "code",
   "execution_count": 22,
   "metadata": {
    "colab": {
     "base_uri": "https://localhost:8080/",
     "height": 201
    },
    "colab_type": "code",
    "id": "VnwAZYut4FS0",
    "outputId": "d89a86c0-31f9-434c-e5cf-208d4b404cc6"
   },
   "outputs": [
    {
     "ename": "TypeError",
     "evalue": "bad operand type for abs(): 'list'",
     "output_type": "error",
     "traceback": [
      "\u001b[1;31m---------------------------------------------------------------------------\u001b[0m",
      "\u001b[1;31mTypeError\u001b[0m                                 Traceback (most recent call last)",
      "\u001b[1;32m<ipython-input-22-404fbd7a6804>\u001b[0m in \u001b[0;36m<module>\u001b[1;34m\u001b[0m\n\u001b[0;32m      1\u001b[0m \u001b[1;31m# O código abaixo dá um erro de tipo\u001b[0m\u001b[1;33m\u001b[0m\u001b[1;33m\u001b[0m\u001b[1;33m\u001b[0m\u001b[0m\n\u001b[0;32m      2\u001b[0m \u001b[0mL\u001b[0m \u001b[1;33m=\u001b[0m \u001b[1;33m[\u001b[0m\u001b[1;36m1\u001b[0m\u001b[1;33m,\u001b[0m\u001b[1;36m2\u001b[0m\u001b[1;33m,\u001b[0m\u001b[1;36m2\u001b[0m\u001b[1;33m,\u001b[0m\u001b[1;36m5\u001b[0m\u001b[1;33m,\u001b[0m\u001b[1;36m3\u001b[0m\u001b[1;33m]\u001b[0m\u001b[1;33m\u001b[0m\u001b[1;33m\u001b[0m\u001b[0m\n\u001b[1;32m----> 3\u001b[1;33m \u001b[0mx\u001b[0m \u001b[1;33m=\u001b[0m \u001b[0mabs\u001b[0m\u001b[1;33m(\u001b[0m\u001b[0mL\u001b[0m\u001b[1;33m)\u001b[0m\u001b[1;33m\u001b[0m\u001b[1;33m\u001b[0m\u001b[0m\n\u001b[0m\u001b[0;32m      4\u001b[0m \u001b[0mprint\u001b[0m\u001b[1;33m(\u001b[0m\u001b[0mx\u001b[0m\u001b[1;33m)\u001b[0m\u001b[1;33m\u001b[0m\u001b[1;33m\u001b[0m\u001b[0m\n",
      "\u001b[1;31mTypeError\u001b[0m: bad operand type for abs(): 'list'"
     ]
    }
   ],
   "source": [
    "# O código abaixo dá um erro de tipo\n",
    "L = [1,2,2,5,3]\n",
    "x = abs(L)\n",
    "print(x)"
   ]
  },
  {
   "cell_type": "code",
   "execution_count": 23,
   "metadata": {
    "colab": {
     "base_uri": "https://localhost:8080/",
     "height": 35
    },
    "colab_type": "code",
    "id": "N9aL2Jf24Od-",
    "outputId": "d7af93f5-5ae4-4993-c684-d56a1aa8920b"
   },
   "outputs": [],
   "source": [
    "# a built-in function len recebe conjuntos (set) na entrada?\n",
    "S = {1,1,2,1,4}\n",
    "# passe S como parâmetros pra built-in function len\n",
    "# guarde o resultado numa variável chamada ls\n",
    "## TODO \n",
    "print(ls)"
   ]
  },
  {
   "cell_type": "code",
   "execution_count": 24,
   "metadata": {
    "colab": {},
    "colab_type": "code",
    "id": "xShrJ-ib4jhF"
   },
   "outputs": [],
   "source": [
    "# a built-in function len recebe listas (list) na entrada?\n",
    "L = [1,1,2,1,4]\n",
    "# passe L como parâmetros pra built-in function len\n",
    "# guarde o resultado numa variável chamada ll\n",
    "## TODO \n",
    "print(ll)"
   ]
  },
  {
   "cell_type": "markdown",
   "metadata": {
    "colab_type": "text",
    "id": "Q8mdCIvG4cXM"
   },
   "source": [
    "Qual a diferença entre conjuntos (set) e listas (list)?"
   ]
  },
  {
   "cell_type": "markdown",
   "metadata": {
    "colab_type": "text",
    "id": "mZO2WG7o5dF6"
   },
   "source": [
    "## 5. Descobrindo e usando métodos"
   ]
  },
  {
   "cell_type": "markdown",
   "metadata": {
    "colab_type": "text",
    "id": "2_gd7klA5kKz"
   },
   "source": [
    "Vimos que a built-in function <i>dir</i> mostra todos os métodos de um objeto. Lembre-se que os métodos vem ao final da lista sem travessão no início de seus nomes."
   ]
  },
  {
   "cell_type": "code",
   "execution_count": 25,
   "metadata": {
    "colab": {},
    "colab_type": "code",
    "id": "FJ3JHhdUk9IG"
   },
   "outputs": [],
   "source": [
    "# quais os 3 últimos métodos de um objeto do tipo dict\n",
    "## TODO"
   ]
  },
  {
   "cell_type": "markdown",
   "metadata": {
    "colab_type": "text",
    "id": "z66OXf2LlHXA"
   },
   "source": [
    "Vimos ainda que para saber o que determinado método faz, basta usar a built-in function <i>help</i>. "
   ]
  },
  {
   "cell_type": "code",
   "execution_count": 26,
   "metadata": {
    "colab": {},
    "colab_type": "code",
    "id": "wxTb4rsalImR"
   },
   "outputs": [],
   "source": [
    "# qual o tipo do objetos (parâmetros) de entrada do método update de dicionários?\n",
    "# DICA: use a buil-in function help\n",
    "## TODO"
   ]
  },
  {
   "cell_type": "markdown",
   "metadata": {
    "colab_type": "text",
    "id": "AgVw8MlIllh0"
   },
   "source": [
    "O método <i>update</i> de dicionários, aplicado a um dicionário <i>D</i>, recebendo como parâmetro de entrada um dicionário <i>E</i>, atualiza o dicionário <i>D</i> incluindo chaves e valores de <i>E</i>."
   ]
  },
  {
   "cell_type": "code",
   "execution_count": 0,
   "metadata": {
    "colab": {},
    "colab_type": "code",
    "id": "E0jVc0snmm4u"
   },
   "outputs": [],
   "source": [
    "D = {\"a\": 20, \"b\": 45}\n",
    "E = {\"c\": 34, \"d\": 27, \"e\": 67}\n",
    "# use o método update e D passando E como parâmetro\n",
    "## TODO\n",
    "print(D)"
   ]
  },
  {
   "cell_type": "markdown",
   "metadata": {
    "colab_type": "text",
    "id": "eBXQC3Dvm_R5"
   },
   "source": [
    "Alguns métodos não possuem parâmetros de entrada:"
   ]
  },
  {
   "cell_type": "code",
   "execution_count": 0,
   "metadata": {
    "colab": {},
    "colab_type": "code",
    "id": "AU-dEWEmnen4"
   },
   "outputs": [],
   "source": [
    "# aplique o método values no dicionário D\n",
    "# O método values não tem parâmetros de entrada\n",
    "# O método values retorna os valores do dicionário\n",
    "## TODO"
   ]
  },
  {
   "cell_type": "code",
   "execution_count": 0,
   "metadata": {
    "colab": {},
    "colab_type": "code",
    "id": "hNSMBspsn6ws"
   },
   "outputs": [],
   "source": [
    "# aplique o método keys no dicionário D\n",
    "# O método keys não tem parâmetros de entrada\n",
    "# O método keys retorna os valores do dicionário\n",
    "## TODO"
   ]
  },
  {
   "cell_type": "markdown",
   "metadata": {
    "colab_type": "text",
    "id": "ImJtHwFhoHNy"
   },
   "source": [
    "Alguns métodos retornam objetos que podem ser armazenados em variáveis. Como é o caso do método values de dicionário. No entanto, outros métodos não retornam nada, como é o caso do método update de dicionários."
   ]
  },
  {
   "cell_type": "code",
   "execution_count": 27,
   "metadata": {
    "colab": {
     "base_uri": "https://localhost:8080/",
     "height": 35
    },
    "colab_type": "code",
    "id": "dtnuuVYeoexh",
    "outputId": "a442901d-9a9e-4f37-c0d2-8768a273ce06"
   },
   "outputs": [
    {
     "name": "stdout",
     "output_type": "stream",
     "text": [
      "None\n"
     ]
    }
   ],
   "source": [
    "G = {\"a\": \"b\", \"c\": \"d\"}\n",
    "H = {\"e\": \"f\"}\n",
    "# exemplo de método que não retorna nada\n",
    "I = G.update(H)\n",
    "print(I)"
   ]
  },
  {
   "cell_type": "code",
   "execution_count": 28,
   "metadata": {
    "colab": {
     "base_uri": "https://localhost:8080/",
     "height": 35
    },
    "colab_type": "code",
    "id": "0KPdORUPote5",
    "outputId": "407c0d6b-2d18-4a11-a59b-62a3bcd2750e"
   },
   "outputs": [
    {
     "name": "stdout",
     "output_type": "stream",
     "text": [
      "dict_keys(['a', 'c', 'e'])\n"
     ]
    }
   ],
   "source": [
    "# exemplo de método que retorna um objeto\n",
    "J = G.keys()\n",
    "print(J)"
   ]
  },
  {
   "cell_type": "markdown",
   "metadata": {
    "colab_type": "text",
    "id": "7QwvOeN5oyEE"
   },
   "source": [
    "<h3>6. Operando objetos</h3>"
   ]
  },
  {
   "cell_type": "markdown",
   "metadata": {
    "colab_type": "text",
    "id": "I9Lup03-pERo"
   },
   "source": [
    "Os **operadores aritméticos** são: +, -, *, /, //, &ast;&ast;, %"
   ]
  },
  {
   "cell_type": "markdown",
   "metadata": {
    "colab_type": "text",
    "id": "eDCgU3reqjsP"
   },
   "source": [
    "É comum usar operadores aritméticos com objetos do tipo inteiro e do tipo float."
   ]
  },
  {
   "cell_type": "markdown",
   "metadata": {
    "colab_type": "text",
    "id": "Wk5m3l1mrriq"
   },
   "source": [
    "O operador % calcula o resto da divisão do primeiro, pelo segundo."
   ]
  },
  {
   "cell_type": "code",
   "execution_count": 29,
   "metadata": {
    "colab": {},
    "colab_type": "code",
    "id": "nHuA7JY_sCuo"
   },
   "outputs": [],
   "source": [
    "# qual o resto da divisão de 17 por 5?\n",
    "## TODO"
   ]
  },
  {
   "cell_type": "markdown",
   "metadata": {
    "colab_type": "text",
    "id": "XJAZscXgsHGp"
   },
   "source": [
    "O operador // retorna a parte inteira da divisão do primeiro, pelo segundo."
   ]
  },
  {
   "cell_type": "code",
   "execution_count": 30,
   "metadata": {
    "colab": {},
    "colab_type": "code",
    "id": "tR_wUljYsR4R"
   },
   "outputs": [],
   "source": [
    "# qual o quociente da divisão de 17 por 5?\n",
    "## TODO"
   ]
  },
  {
   "cell_type": "markdown",
   "metadata": {
    "colab_type": "text",
    "id": "X6BTb4WNsgr3"
   },
   "source": [
    "O operador &ast;&ast; retorna o primeiro elevado ao segundo."
   ]
  },
  {
   "cell_type": "code",
   "execution_count": 31,
   "metadata": {
    "colab": {},
    "colab_type": "code",
    "id": "1jSY8eHIszMT"
   },
   "outputs": [],
   "source": [
    "# quanto é 5 elevado a 3?\n",
    "## TODO"
   ]
  },
  {
   "cell_type": "markdown",
   "metadata": {
    "colab_type": "text",
    "id": "vRgu2_3Vs8iO"
   },
   "source": [
    "Utilizaremos operadores aritméticos para resolver alguns problemas reais:"
   ]
  },
  {
   "cell_type": "code",
   "execution_count": 32,
   "metadata": {
    "colab": {
     "base_uri": "https://localhost:8080/",
     "height": 35
    },
    "colab_type": "code",
    "id": "lLHXFXIprFWn",
    "outputId": "04d16c04-5f7a-4ba6-eb63-72a832f9e4b6"
   },
   "outputs": [
    {
     "name": "stdout",
     "output_type": "stream",
     "text": [
      "24.167162403331353\n"
     ]
    }
   ],
   "source": [
    "peso = 65 # kg\n",
    "altura = 1.64 # metros\n",
    "#  o imc é obtido dividindo se o peso pelo quadrado da altura\n",
    "# calcule o imc usando as variáveis peso e altura\n",
    "# guarde o valor obtido numa variável chamada imc\n",
    "imc = peso / (altura ** 2)\n",
    "print(imc)"
   ]
  },
  {
   "cell_type": "markdown",
   "metadata": {
    "colab_type": "text",
    "id": "p48vvy65taOr"
   },
   "source": [
    "Alguns objetos, mesmo não sendo inteiros ou pontos flutuantes, podem ser operados com operadores aritméticos:"
   ]
  },
  {
   "cell_type": "code",
   "execution_count": 0,
   "metadata": {
    "colab": {},
    "colab_type": "code",
    "id": "SNosETHHtlYF"
   },
   "outputs": [],
   "source": [
    "J = [2,3,5]\n",
    "K = [8,12,7]\n",
    "# faça a soma da lista J com a lista K e armazene na variável L\n",
    "## TODO\n",
    "print(L)"
   ]
  },
  {
   "cell_type": "markdown",
   "metadata": {
    "colab_type": "text",
    "id": "LyJYuITYsXc5"
   },
   "source": [
    "Os operadores comparativos são: <, >, <=, >=, ==, !="
   ]
  },
  {
   "cell_type": "markdown",
   "metadata": {
    "colab_type": "text",
    "id": "xiVa12E9t8b5"
   },
   "source": [
    "Operadores comparativos retornam um objeto do tipo boolean (True, False)."
   ]
  },
  {
   "cell_type": "code",
   "execution_count": 0,
   "metadata": {
    "colab": {},
    "colab_type": "code",
    "id": "gM6J8uBHuch9"
   },
   "outputs": [],
   "source": [
    "x = 7\n",
    "y = 48//6\n",
    "# verifique se x é maior que y\n",
    "# guarde o resultado na variável w\n",
    "## TODO\n",
    "print(w)"
   ]
  },
  {
   "cell_type": "code",
   "execution_count": 0,
   "metadata": {
    "colab": {},
    "colab_type": "code",
    "id": "VdHxI9p7ulZb"
   },
   "outputs": [],
   "source": [
    "# verifique se x é maior ou igual a y\n",
    "# guarde o resultado na variável w\n",
    "## TODO\n",
    "print(w)"
   ]
  },
  {
   "cell_type": "code",
   "execution_count": 0,
   "metadata": {
    "colab": {},
    "colab_type": "code",
    "id": "w828Ozp7upP5"
   },
   "outputs": [],
   "source": [
    "# verifique se x é diferente de y\n",
    "# guarde o resultado na variável w\n",
    "## TODO\n",
    "print(w)"
   ]
  },
  {
   "cell_type": "code",
   "execution_count": 0,
   "metadata": {
    "colab": {},
    "colab_type": "code",
    "id": "LB6WiDpNuspV"
   },
   "outputs": [],
   "source": [
    "# verifique se x é igual a y\n",
    "# guarde o resultado na variável w\n",
    "## TODO\n",
    "print(w)"
   ]
  },
  {
   "cell_type": "markdown",
   "metadata": {
    "colab_type": "text",
    "id": "nDcmYg6xuu_U"
   },
   "source": [
    "<h3>7 - Fatiando objetos</h3>"
   ]
  },
  {
   "cell_type": "markdown",
   "metadata": {
    "colab_type": "text",
    "id": "bVLkOSC3xnjQ"
   },
   "source": [
    "Vimos como fatiar strings. Ao fim uma observação é apresentada: \"O mesmo processo de fatiamento pode ser aplicado em qualquer tipo de iterável. Por exemplo, em objetos do tipo lista ou do tipo tupla.\""
   ]
  },
  {
   "cell_type": "markdown",
   "metadata": {
    "colab_type": "text",
    "id": "K4C1wtIYx1vJ"
   },
   "source": [
    "Fatiaremos uma lista:"
   ]
  },
  {
   "cell_type": "code",
   "execution_count": 33,
   "metadata": {
    "colab": {},
    "colab_type": "code",
    "id": "aZ-oQBlwySW6"
   },
   "outputs": [],
   "source": [
    "L = [4, 3, 56] + 5 * [3,4] + [67, 89, 67]\n",
    "# quanto elementos tem a lista L?\n",
    "# DICA: use a built-in function len\n",
    "## TODO"
   ]
  },
  {
   "cell_type": "code",
   "execution_count": 34,
   "metadata": {
    "colab": {},
    "colab_type": "code",
    "id": "P-B4CQufyK4q"
   },
   "outputs": [],
   "source": [
    "# qual o 16º elemento da lista L?\n",
    "# DICA: para ver o elemento n, use o índice n-1\n",
    "## TODO"
   ]
  },
  {
   "cell_type": "code",
   "execution_count": 35,
   "metadata": {
    "colab": {},
    "colab_type": "code",
    "id": "jIKr_tHNyiGS"
   },
   "outputs": [],
   "source": [
    "# qual o último elemento da lista L?\n",
    "# DICA: use o índice -1 para ver o último elemento\n",
    "## TODO"
   ]
  },
  {
   "cell_type": "code",
   "execution_count": 36,
   "metadata": {
    "colab": {},
    "colab_type": "code",
    "id": "Q-mKSLYayrdd"
   },
   "outputs": [],
   "source": [
    "# qual o 8º elemento de L?\n",
    "## TODO"
   ]
  },
  {
   "cell_type": "code",
   "execution_count": 0,
   "metadata": {
    "colab": {},
    "colab_type": "code",
    "id": "2dgkqQ08yump"
   },
   "outputs": [],
   "source": [
    "# fatie L do 8º ao 12º elemento, inclua esses dois no fatiamento\n",
    "# guarde o resultado numa variável chamada J\n",
    "## TODO\n",
    "print(J)"
   ]
  },
  {
   "cell_type": "code",
   "execution_count": 0,
   "metadata": {
    "colab": {},
    "colab_type": "code",
    "id": "8wgRKWlHzVM1"
   },
   "outputs": [],
   "source": [
    "# fatie L do 6º ao 12º elemento, inclua esses dois no fatiamento\n",
    "# mantenha no fatiamento apenas elementos de índice ímpar\n",
    "# guarde o resultado numa variável chamada K\n",
    "## TODO\n",
    "print(K)"
   ]
  },
  {
   "cell_type": "markdown",
   "metadata": {
    "colab_type": "text",
    "id": "qF93LhVhzRj1"
   },
   "source": [
    "<h3>8 - If… Else…</h3>"
   ]
  },
  {
   "cell_type": "markdown",
   "metadata": {
    "colab_type": "text",
    "id": "802-Mb-Tz4HZ"
   },
   "source": [
    "A tabela abaixo mostra qual a situação em relação ao índice de massa corporal."
   ]
  },
  {
   "cell_type": "markdown",
   "metadata": {
    "colab_type": "text",
    "id": "qUZl2tBuzALc"
   },
   "source": [
    "<table>\n",
    "<tbody><tr>\n",
    "<th>Resultado\n",
    "</th>\n",
    "<th>Situação\n",
    "</th></tr>\n",
    "<tr>\n",
    "<td>Abaixo de 17\n",
    "</td>\n",
    "<td>Muito abaixo do <i>peso</i>\n",
    "</td></tr>\n",
    "<tr>\n",
    "<td>Entre 17 e 18,49\n",
    "</td>\n",
    "<td>Abaixo do <i>peso</i>\n",
    "</td></tr>\n",
    "<tr>\n",
    "<td>Entre 18,50 e 24,99\n",
    "</td>\n",
    "<td><i>Peso</i> normal\n",
    "</td></tr>\n",
    "<tr>\n",
    "<td>Entre 25 e 29,99\n",
    "</td>\n",
    "<td>Acima do <i>peso</i>\n",
    "</td></tr>\n",
    "<tr>\n",
    "<td>Entre 30 e 34,99\n",
    "</td>\n",
    "<td><i>Obesidade</i> I\n",
    "</td></tr>\n",
    "<tr>\n",
    "<td>Entre 35 e 39,99\n",
    "</td>\n",
    "<td><i>Obesidade</i> II (severa)\n",
    "</td></tr>\n",
    "<tr>\n",
    "<td>Acima de 40\n",
    "</td>\n",
    "<td><i>Obesidade</i> III (mórbida)\n",
    "</td></tr></tbody></table>"
   ]
  },
  {
   "cell_type": "markdown",
   "metadata": {
    "colab_type": "text",
    "id": "qJOvMuZr0Vs1"
   },
   "source": [
    "Queremos criar um programa que retorna a situação, dado o peso e a altura. Para isso devemos solicitar que o usuário digite o peso e a altura em campos de entrada. Usaremos a built-in function <i>input</i>. O tipo da variável peso e altura devem então serem\n",
    "convertidos para float. Em seguida devemos calcular o <i>imc</i>. Usaremos operadores aritméticos. Por fim, devemos usar if... elif... else... para determinar a situação, essa parte será feita por você."
   ]
  },
  {
   "cell_type": "code",
   "execution_count": 0,
   "metadata": {
    "colab": {},
    "colab_type": "code",
    "id": "hrthi9nmzQty"
   },
   "outputs": [],
   "source": [
    "# solicitando os dados\n",
    "peso = input(\"Quantos quilos? \")\n",
    "altura = input(\"Quantos metros? \")\n",
    "\n",
    "# transformando os dados em pontos flutuantes (float)\n",
    "peso = float(peso)\n",
    "altura = float(altura)\n",
    "\n",
    "# calculando o imc\n",
    "imc = peso / (altura ** 2)\n",
    "\n",
    "# mostrando o imc\n",
    "print(\"IMC: {:.2f}\".format(imc))\n",
    "\n",
    "# determinando a situacao em relação aos dados\n",
    "# salve o texto que descreve a situação numa variável chamada situacao\n",
    "## TODO (serão várias linhas de código)\n",
    "\n",
    "print(situacao)"
   ]
  },
  {
   "cell_type": "markdown",
   "metadata": {
    "colab_type": "text",
    "id": "hK_AQjmZ1W18"
   },
   "source": [
    "<h3>9. Loop for</h3>"
   ]
  },
  {
   "cell_type": "markdown",
   "metadata": {
    "colab_type": "text",
    "id": "ABwcczyc2IP_"
   },
   "source": [
    "Em um loop uma variável percorre os elementos de um objeto iterável. Por exemplo, os elementos iteráveis da string \"roma\" são \"r\", \"o\", \"m\", \"a\". Podemos imprimir um por um usando o loop <i>for</i> e a built-in function <i>print</i>:"
   ]
  },
  {
   "cell_type": "code",
   "execution_count": 37,
   "metadata": {
    "colab": {
     "base_uri": "https://localhost:8080/",
     "height": 87
    },
    "colab_type": "code",
    "id": "Yvn92Xge2zyx",
    "outputId": "86fc25bb-8bd8-4bd2-d6fa-ac57828493f3"
   },
   "outputs": [
    {
     "name": "stdout",
     "output_type": "stream",
     "text": [
      "r\n",
      "o\n",
      "m\n",
      "a\n"
     ]
    }
   ],
   "source": [
    "for letra in \"roma\":\n",
    "    print(letra)"
   ]
  },
  {
   "cell_type": "markdown",
   "metadata": {
    "colab_type": "text",
    "id": "wCmW3KVn23Ir"
   },
   "source": [
    "A variável de iteração, no exemplo acima, é <i>letra</i>. "
   ]
  },
  {
   "cell_type": "markdown",
   "metadata": {
    "colab_type": "text",
    "id": "wCmW3KVn23Ir"
   },
   "source": [
    "Os elementos iteráveis da lista [\"roma\", \"berlin\", \"kiev\", \"moskow\"] são \"roma\", \"berlin\", \"kiev\" e \"moskow\": "
   ]
  },
  {
   "cell_type": "code",
   "execution_count": 38,
   "metadata": {
    "colab": {
     "base_uri": "https://localhost:8080/",
     "height": 87
    },
    "colab_type": "code",
    "id": "lNNHUIcD3j9y",
    "outputId": "0f8ca0e8-5ad5-4887-f8ea-effb8661665a"
   },
   "outputs": [
    {
     "name": "stdout",
     "output_type": "stream",
     "text": [
      "roma\n",
      "berlin\n",
      "kiev\n",
      "moskow\n"
     ]
    }
   ],
   "source": [
    "cidades = [\"roma\", \"berlin\", \"kiev\", \"moskow\"]\n",
    "for cidade in cidades:\n",
    "    print(cidade)"
   ]
  },
  {
   "cell_type": "markdown",
   "metadata": {
    "colab_type": "text",
    "id": "FxZxcAGz3scr"
   },
   "source": [
    "Da mesma forma podemos percorrer listas de números:"
   ]
  },
  {
   "cell_type": "code",
   "execution_count": 39,
   "metadata": {
    "colab": {
     "base_uri": "https://localhost:8080/",
     "height": 156
    },
    "colab_type": "code",
    "id": "Wxom4FIQ3z87",
    "outputId": "43e4fd2f-22d1-4b96-d43c-60669c5d2768"
   },
   "outputs": [
    {
     "name": "stdout",
     "output_type": "stream",
     "text": [
      "2\n",
      "5\n",
      "8\n",
      "11\n",
      "14\n",
      "17\n",
      "20\n",
      "23\n"
     ]
    }
   ],
   "source": [
    "numeros = [2, 5, 8, 11, 14, 17, 20, 23]\n",
    "for num in numeros:\n",
    "    print(num)"
   ]
  },
  {
   "cell_type": "markdown",
   "metadata": {
    "colab_type": "text",
    "id": "DI7pHNTN384a"
   },
   "source": [
    "Objetos range nos permite criar listas de números com determinado padrão mais facilmente:"
   ]
  },
  {
   "cell_type": "code",
   "execution_count": 40,
   "metadata": {
    "colab": {
     "base_uri": "https://localhost:8080/",
     "height": 35
    },
    "colab_type": "code",
    "id": "4YrCeSPL4EjS",
    "outputId": "828dd3bf-3190-425c-c822-977cb29589b1"
   },
   "outputs": [
    {
     "data": {
      "text/plain": [
       "range(2, 24, 3)"
      ]
     },
     "execution_count": 40,
     "metadata": {},
     "output_type": "execute_result"
    }
   ],
   "source": [
    "# para criar um range de inteiros de 2 até 23 (23=24-1) saltando de 3 em 3\n",
    "range(2, 24, 3)"
   ]
  },
  {
   "cell_type": "markdown",
   "metadata": {
    "colab_type": "text",
    "id": "29b9SBd94xY9"
   },
   "source": [
    "Assim, para imprimir cada número da lista <i>numeros</i> podemos reescrever o código, como a seguir:"
   ]
  },
  {
   "cell_type": "code",
   "execution_count": 41,
   "metadata": {
    "colab": {
     "base_uri": "https://localhost:8080/",
     "height": 156
    },
    "colab_type": "code",
    "id": "XRaCrXPA4hJq",
    "outputId": "1a3a5c4c-8fe3-4d37-ea6b-908f8cf18ddf"
   },
   "outputs": [
    {
     "name": "stdout",
     "output_type": "stream",
     "text": [
      "2\n",
      "5\n",
      "8\n",
      "11\n",
      "14\n",
      "17\n",
      "20\n",
      "23\n"
     ]
    }
   ],
   "source": [
    "for num in range(2, 24, 3):\n",
    "    print(num)"
   ]
  },
  {
   "cell_type": "markdown",
   "metadata": {
    "colab_type": "text",
    "id": "aqomguga4rNG"
   },
   "source": [
    "Uma das utilidades de um loop é pode alterar uma variável auxiliar a cada iteração. Assim, podemos fazer somas facilmente:"
   ]
  },
  {
   "cell_type": "code",
   "execution_count": 42,
   "metadata": {
    "colab": {
     "base_uri": "https://localhost:8080/",
     "height": 35
    },
    "colab_type": "code",
    "id": "oT6djTpY5IS6",
    "outputId": "c320abb4-cb24-4e8a-cd27-1eee96259551"
   },
   "outputs": [
    {
     "name": "stdout",
     "output_type": "stream",
     "text": [
      "100\n"
     ]
    }
   ],
   "source": [
    "soma = 0\n",
    "for num in range(2, 24, 3):\n",
    "    soma = soma + num\n",
    "print(soma)"
   ]
  },
  {
   "cell_type": "markdown",
   "metadata": {
    "colab_type": "text",
    "id": "0CcD_UN_5RD7"
   },
   "source": [
    "Observe que a soma é impressa apenas uma vez, pois a linha contendo a built-in function <i>print</i> não esta identada, portanto não pertence ao escopo do loop <i>for</i> e, logo, não será impressa a cada iteração. Vejamos o que acontece que identarmos a built-in function <i>print</i>:"
   ]
  },
  {
   "cell_type": "code",
   "execution_count": 43,
   "metadata": {
    "colab": {
     "base_uri": "https://localhost:8080/",
     "height": 156
    },
    "colab_type": "code",
    "id": "123CtlmI5o4a",
    "outputId": "de10de22-92b2-4f3b-9b9f-bba7e38a004d"
   },
   "outputs": [
    {
     "name": "stdout",
     "output_type": "stream",
     "text": [
      "2\n",
      "7\n",
      "15\n",
      "26\n",
      "40\n",
      "57\n",
      "77\n",
      "100\n"
     ]
    }
   ],
   "source": [
    "soma = 0\n",
    "for num in range(2, 24, 3):\n",
    "    soma = soma + num\n",
    "    print(soma)"
   ]
  },
  {
   "cell_type": "markdown",
   "metadata": {
    "colab_type": "text",
    "id": "gwz49hC65r5i"
   },
   "source": [
    "Nesse segundo exemplo a variável <i>soma</i> é impressa a cada iteração!"
   ]
  },
  {
   "cell_type": "markdown",
   "metadata": {
    "colab_type": "text",
    "id": "hZLkkE9u5y4j"
   },
   "source": [
    "Nesse próximo exercício você deve imprimir a soma de todo quadrado de todo número par entre 1 e 101:"
   ]
  },
  {
   "cell_type": "code",
   "execution_count": 0,
   "metadata": {
    "colab": {},
    "colab_type": "code",
    "id": "kp9kFvfn5_XT"
   },
   "outputs": [],
   "source": [
    "# DICA: inicialize uma variável soma \n",
    "# DICA: crie um range que vai de 1 a 101 de 2 em 2\n",
    "# DICA: use o loop for para percorrer os números do objeto range\n",
    "# DICA: a cada iteração, atualize a variável soma\n",
    "# DICA: some o quadrado da variável de iteração à variável soma a cada iteração\n",
    "# DICA: não esqueça de imprimir o resultado\n",
    "## TODO (contém muitas linhas, a resposta é 166650)"
   ]
  },
  {
   "cell_type": "markdown",
   "metadata": {
    "colab_type": "text",
    "id": "gD6woDMz6yPb"
   },
   "source": [
    "<h3>10 - Funções</h3>"
   ]
  },
  {
   "cell_type": "markdown",
   "metadata": {
    "colab_type": "text",
    "id": "Xe2PKLk37CEI"
   },
   "source": [
    "Uma função pode não receber parâmetros de entrada:"
   ]
  },
  {
   "cell_type": "code",
   "execution_count": 44,
   "metadata": {
    "colab": {},
    "colab_type": "code",
    "id": "6Xg7Zxvn8spL"
   },
   "outputs": [],
   "source": [
    "def sayHello():\n",
    "    print(\"Hello!\")"
   ]
  },
  {
   "cell_type": "code",
   "execution_count": 45,
   "metadata": {
    "colab": {
     "base_uri": "https://localhost:8080/",
     "height": 35
    },
    "colab_type": "code",
    "id": "-DdBwIFX8wsp",
    "outputId": "377e97ae-3a62-486c-bf0b-027a4f57dfd9"
   },
   "outputs": [
    {
     "name": "stdout",
     "output_type": "stream",
     "text": [
      "Hello!\n"
     ]
    }
   ],
   "source": [
    "sayHello()"
   ]
  },
  {
   "cell_type": "markdown",
   "metadata": {
    "colab_type": "text",
    "id": "QrknElmE81Gr"
   },
   "source": [
    "Observe que a função acima não retorna \"Hello!\", ela apenas imprime. Para conferir isso podemos armazenar o retorno da função numa variável <i>x</i> e depois imprimí-la:"
   ]
  },
  {
   "cell_type": "code",
   "execution_count": 46,
   "metadata": {
    "colab": {
     "base_uri": "https://localhost:8080/",
     "height": 52
    },
    "colab_type": "code",
    "id": "H6tbbkyu9GAK",
    "outputId": "cd665bf4-6dc1-47a9-ef96-3afb6a0177bc"
   },
   "outputs": [
    {
     "name": "stdout",
     "output_type": "stream",
     "text": [
      "Hello!\n",
      "x = None\n"
     ]
    }
   ],
   "source": [
    "x = sayHello()\n",
    "print(\"x =\", x)"
   ]
  },
  {
   "cell_type": "markdown",
   "metadata": {
    "colab_type": "text",
    "id": "oNurBZbe9I0C"
   },
   "source": [
    "Após imprimir \"Hello!\", devido a chamada da função, imprimiu-se x = None. Para que a função retorne \"Hello!\" é necessário adicionar <i>return</i> ao final da função: "
   ]
  },
  {
   "cell_type": "code",
   "execution_count": 47,
   "metadata": {
    "colab": {},
    "colab_type": "code",
    "id": "MJTCky929eZ6"
   },
   "outputs": [],
   "source": [
    "def sayHello():\n",
    "    return \"Hello!\""
   ]
  },
  {
   "cell_type": "markdown",
   "metadata": {
    "colab_type": "text",
    "id": "RLjWckis9lgi"
   },
   "source": [
    "Ao chamar a função:"
   ]
  },
  {
   "cell_type": "code",
   "execution_count": 48,
   "metadata": {
    "colab": {
     "base_uri": "https://localhost:8080/",
     "height": 35
    },
    "colab_type": "code",
    "id": "FsIknNYw9nla",
    "outputId": "3640756a-237a-4799-c892-c7fa9234a405"
   },
   "outputs": [
    {
     "data": {
      "text/plain": [
       "'Hello!'"
      ]
     },
     "execution_count": 48,
     "metadata": {},
     "output_type": "execute_result"
    }
   ],
   "source": [
    "sayHello()"
   ]
  },
  {
   "cell_type": "markdown",
   "metadata": {
    "colab_type": "text",
    "id": "2T8L13IS9or7"
   },
   "source": [
    "Ao imprimir o retorno da função:"
   ]
  },
  {
   "cell_type": "code",
   "execution_count": 49,
   "metadata": {
    "colab": {
     "base_uri": "https://localhost:8080/",
     "height": 35
    },
    "colab_type": "code",
    "id": "O35z19xA9vQq",
    "outputId": "34afe6f0-83d6-47f9-c991-987e0fd40c91"
   },
   "outputs": [
    {
     "name": "stdout",
     "output_type": "stream",
     "text": [
      "x = Hello!\n"
     ]
    }
   ],
   "source": [
    "x = sayHello()\n",
    "print(\"x =\", x)"
   ]
  },
  {
   "cell_type": "markdown",
   "metadata": {
    "colab_type": "text",
    "id": "z-kDUfnR9wpK"
   },
   "source": [
    "Vimos no tutorial que uma função também pode receber um parâmetro de entrada. Vejamos agora funções que recebem 2 parâmetros de entrada, <i>a</i> e <i>p</i> por exemplo:"
   ]
  },
  {
   "cell_type": "code",
   "execution_count": 50,
   "metadata": {
    "colab": {},
    "colab_type": "code",
    "id": "93bXnVo6-KTx"
   },
   "outputs": [],
   "source": [
    "def potencia(a, p):\n",
    "    return a ** p"
   ]
  },
  {
   "cell_type": "markdown",
   "metadata": {
    "colab_type": "text",
    "id": "_oDa2xPn-RHb"
   },
   "source": [
    "A função <i>potencia</i> calcula <i>a</i> elevado a <i>p</i>. Vejamos: "
   ]
  },
  {
   "cell_type": "code",
   "execution_count": 51,
   "metadata": {
    "colab": {
     "base_uri": "https://localhost:8080/",
     "height": 35
    },
    "colab_type": "code",
    "id": "3FrRibdu-dHL",
    "outputId": "75078a9a-fc60-464a-bc67-b3ea39789e1c"
   },
   "outputs": [
    {
     "data": {
      "text/plain": [
       "125"
      ]
     },
     "execution_count": 51,
     "metadata": {},
     "output_type": "execute_result"
    }
   ],
   "source": [
    "potencia(5, 3)"
   ]
  },
  {
   "cell_type": "markdown",
   "metadata": {
    "colab_type": "text",
    "id": "MyrQIvFm-hfD"
   },
   "source": [
    "Você poderia usar o operador &ast;&ast; para isso. A ideia de funções é criar coisas novas, que não existe na linguagem básica do Python. Crie uma função chamada <i>imc</i> que recebe como parâmetros de entrada as variáveis <i>peso</i> e <i>altura</i> e retorna o respectivo índice de massa corporal:"
   ]
  },
  {
   "cell_type": "code",
   "execution_count": 0,
   "metadata": {
    "colab": {},
    "colab_type": "code",
    "id": "y3mZlEsv--dS"
   },
   "outputs": [],
   "source": [
    "def imc(peso, altura):\n",
    "  ## TODO\n",
    "\n",
    "resultado = imc(peso, altura)\n",
    "print(resultado)"
   ]
  },
  {
   "cell_type": "markdown",
   "metadata": {
    "colab_type": "text",
    "id": "HXcnG7nW_ILo"
   },
   "source": [
    "<h3>11. Bibliotecas</h3>"
   ]
  },
  {
   "cell_type": "markdown",
   "metadata": {
    "colab_type": "text",
    "id": "yHHrWDzq_TcK"
   },
   "source": [
    "Como vimos existem várias funções que são colocadas em bibliotecas criadas pela comunidade Python. Inclusive existe uma biblioteca para calcular o imc! Enfim nessa última seção exploraremos um pouco de funções de bibliotecas."
   ]
  },
  {
   "cell_type": "markdown",
   "metadata": {
    "colab_type": "text",
    "id": "j44OZZgs_1Ta"
   },
   "source": [
    "A biblioteca <i>numpy</i> tem várias funções importantes como média, desvio padrão, mediana, correlações, etc ..."
   ]
  },
  {
   "cell_type": "markdown",
   "metadata": {
    "colab_type": "text",
    "id": "CA4ZN3U8AyOL"
   },
   "source": [
    "Para importar a biblioteca basta usar a palavra-chave <i>import</i> antes do nome da biblioteca:"
   ]
  },
  {
   "cell_type": "code",
   "execution_count": 52,
   "metadata": {
    "colab": {},
    "colab_type": "code",
    "id": "LkgOgcXFA8Pq"
   },
   "outputs": [],
   "source": [
    "import numpy"
   ]
  },
  {
   "cell_type": "markdown",
   "metadata": {
    "colab_type": "text",
    "id": "J2nI-srUA9Vr"
   },
   "source": [
    "Pronto, agora é possível usar a biblioteca, por exemplo, para calcular a média de uma lista de números:"
   ]
  },
  {
   "cell_type": "code",
   "execution_count": 53,
   "metadata": {
    "colab": {
     "base_uri": "https://localhost:8080/",
     "height": 35
    },
    "colab_type": "code",
    "id": "Vv8xSgW4BGN0",
    "outputId": "61612bda-ae6c-4662-ef3a-a6645b4bba70"
   },
   "outputs": [
    {
     "name": "stdout",
     "output_type": "stream",
     "text": [
      "12.5\n"
     ]
    }
   ],
   "source": [
    "numeros = [2, 5, 8, 11, 14, 17, 20, 23]\n",
    "media = numpy.mean(numeros)\n",
    "print(media)"
   ]
  },
  {
   "cell_type": "markdown",
   "metadata": {
    "colab_type": "text",
    "id": "-PFueuHiBOxD"
   },
   "source": [
    "Outra forma de importar a bibliteca é usando a palavra chave <i>as</i>. Com essa palavra é possível dar um apelido para biblioteca, por exemplo, <i>np</i>:"
   ]
  },
  {
   "cell_type": "code",
   "execution_count": 54,
   "metadata": {
    "colab": {},
    "colab_type": "code",
    "id": "2HmLpNCbBeyL"
   },
   "outputs": [],
   "source": [
    "import numpy as np"
   ]
  },
  {
   "cell_type": "markdown",
   "metadata": {
    "colab_type": "text",
    "id": "1b3kJqiRBgLT"
   },
   "source": [
    "Isso abrevia as chamadas das funções da biblioteca:"
   ]
  },
  {
   "cell_type": "code",
   "execution_count": 55,
   "metadata": {
    "colab": {
     "base_uri": "https://localhost:8080/",
     "height": 35
    },
    "colab_type": "code",
    "id": "aZ7Ys3rpBkEM",
    "outputId": "db718838-e0bb-4ddd-caeb-493ef43a90de"
   },
   "outputs": [
    {
     "name": "stdout",
     "output_type": "stream",
     "text": [
      "12.5\n"
     ]
    }
   ],
   "source": [
    "numeros = [2, 5, 8, 11, 14, 17, 20, 23]\n",
    "media = np.mean(numeros)\n",
    "print(media)"
   ]
  },
  {
   "cell_type": "markdown",
   "metadata": {
    "colab_type": "text",
    "id": "2V4H2hA7Bmmb"
   },
   "source": [
    "É possível também importar diretamente a função da biblioteca usando a palavra chave <i>from</i>:"
   ]
  },
  {
   "cell_type": "code",
   "execution_count": 56,
   "metadata": {
    "colab": {},
    "colab_type": "code",
    "id": "-62cIM2gBvlz"
   },
   "outputs": [],
   "source": [
    "from numpy import mean"
   ]
  },
  {
   "cell_type": "markdown",
   "metadata": {
    "colab_type": "text",
    "id": "9tAAjsqJBw5r"
   },
   "source": [
    "Abreviamos ainda mais nosso script:"
   ]
  },
  {
   "cell_type": "code",
   "execution_count": 57,
   "metadata": {
    "colab": {
     "base_uri": "https://localhost:8080/",
     "height": 35
    },
    "colab_type": "code",
    "id": "_6GQa4GSB1nS",
    "outputId": "60796733-49e4-4bf0-f61d-25058b9a2081"
   },
   "outputs": [
    {
     "name": "stdout",
     "output_type": "stream",
     "text": [
      "12.5\n"
     ]
    }
   ],
   "source": [
    "numeros = [2, 5, 8, 11, 14, 17, 20, 23]\n",
    "media = mean(numeros)\n",
    "print(media)"
   ]
  },
  {
   "cell_type": "markdown",
   "metadata": {
    "colab_type": "text",
    "id": "Y8xE49rgB2vr"
   },
   "source": [
    "A função <i>std</i> da biblioteca <i>numpy</i> calcula o desvio padrão de uma lista de números. Use essa função para calcular o desvio padrão da lista <i>numeros</i>:"
   ]
  },
  {
   "cell_type": "code",
   "execution_count": 58,
   "metadata": {
    "colab": {},
    "colab_type": "code",
    "id": "2TNoloRrCIkL"
   },
   "outputs": [],
   "source": [
    "# DICA: primeiro importe a função std da biblioteca numpy\n",
    "## TODO (esse código contém várias linhas)"
   ]
  },
  {
   "cell_type": "markdown",
   "metadata": {
    "colab_type": "text",
    "id": "BVJd5BPNCUSD"
   },
   "source": [
    "A função median da biblioteca numpy calcula a mediana de uma lista de números. Use essa função para calcular a mediana da lista numeros:"
   ]
  },
  {
   "cell_type": "code",
   "execution_count": 59,
   "metadata": {
    "colab": {},
    "colab_type": "code",
    "id": "nuJmjPWzCdKS"
   },
   "outputs": [],
   "source": [
    "# DICA: primeiro importe a função median da biblioteca numpy\n",
    "## TODO (esse código contém várias linhas)"
   ]
  },
  {
   "cell_type": "markdown",
   "metadata": {
    "colab_type": "text",
    "id": "ybDWVqraCiBL"
   },
   "source": [
    "No site https://docs.scipy.org/doc/numpy-1.13.0/reference/routines.math.html há várias funções matemáticas da biblioteca <i>numpy</i>."
   ]
  },
  {
   "cell_type": "code",
   "execution_count": 60,
   "metadata": {
    "colab": {},
    "colab_type": "code",
    "id": "Vpag5b_WC_NB"
   },
   "outputs": [],
   "source": [
    "# importe a função radians da biblioteca numpy\n",
    "## TODO\n",
    "# calcule 45 em radianos e guarde na variável r\n",
    "## TODO\n",
    "# import a função tan da biblioteca numpy\n",
    "## TODO\n",
    "# calcule a tangente de 45 passando r como parâmetro da função tan\n",
    "## TODO"
   ]
  },
  {
   "cell_type": "markdown",
   "metadata": {
    "colab_type": "text",
    "id": "MwJi6dUMDuxD"
   },
   "source": [
    "<h3>Finalizando ...</h3>"
   ]
  },
  {
   "cell_type": "markdown",
   "metadata": {
    "colab_type": "text",
    "id": "Ux7ON-IeD9cD"
   },
   "source": [
    "É isso aí pessoal, chegamos ao final de um hands-on introdutório de Python, mas já aprendemos muitas coisas que podemos já utilizar no nosso dia a dia.\n",
    "\n",
    "No próximo hands-on aprenderemos como treinar para competições!!! Competições é uma importante porta de entrada conseguir trabalhar em empresas maiores como Google, B2W, Facebook, IBM, Microsoft, dentre outras tantas.\n",
    "\n",
    "Continue seguindo a comunidade Urapython em nossas redes sociais:\n",
    "\n",
    "<ul>\n",
    "    <li>\n",
    "\n",
    "Até a próxima!"
   ]
  },
  {
   "cell_type": "code",
   "execution_count": 0,
   "metadata": {
    "colab": {},
    "colab_type": "code",
    "id": "GBf3T7NMEldT"
   },
   "outputs": [],
   "source": []
  }
 ],
 "metadata": {
  "colab": {
   "collapsed_sections": [],
   "name": "11ConceitosPythonInicianteExercicios.ipynb",
   "provenance": []
  },
  "kernelspec": {
   "display_name": "Python 3",
   "language": "python",
   "name": "python3"
  },
  "language_info": {
   "codemirror_mode": {
    "name": "ipython",
    "version": 3
   },
   "file_extension": ".py",
   "mimetype": "text/x-python",
   "name": "python",
   "nbconvert_exporter": "python",
   "pygments_lexer": "ipython3",
   "version": "3.7.3"
  }
 },
 "nbformat": 4,
 "nbformat_minor": 1
}
